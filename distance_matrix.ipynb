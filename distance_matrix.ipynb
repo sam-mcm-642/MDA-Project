{
 "cells": [
  {
   "cell_type": "markdown",
   "id": "816a1f1e-b0c3-452a-8667-ab87da023780",
   "metadata": {},
   "source": [
    "## Libraries, API Key"
   ]
  },
  {
   "cell_type": "markdown",
   "id": "79a95b0f-e10a-4ada-9b25-6660e8212582",
   "metadata": {},
   "source": [
    "Don't forget to insert your Google API key"
   ]
  },
  {
   "cell_type": "code",
   "execution_count": null,
   "id": "7e0229eb-2091-4093-9c1a-0e607c60b0a0",
   "metadata": {},
   "outputs": [],
   "source": [
    "import googlemaps\n",
    "import pandas as pd\n",
    "import numpy as np\n",
    "import os\n",
    "\n",
    "GOOGLE_API_KEY = \"\"\n",
    "gmaps = googlemaps.Client(key = GOOGLE_API_KEY) \n",
    "\n",
    "np.random.seed(123)"
   ]
  },
  {
   "cell_type": "markdown",
   "id": "de28b7b1-3ee8-4093-9737-8bfe1d510536",
   "metadata": {},
   "source": [
    "## Constants"
   ]
  },
  {
   "cell_type": "markdown",
   "id": "27ccd01a-19a8-4dc9-9d8b-9e251a622dd6",
   "metadata": {},
   "source": [
    "Import folder - the one with files like Leuven_aeds.csv (we have to make names more clear in final version)\n",
    "Export folder - any folder you want\n",
    "\n",
    "RATIO_EMERGENCY_NORMAL = 0.65 - this means that ambulance is 35% faster than a regular car for the same distance"
   ]
  },
  {
   "cell_type": "code",
   "execution_count": null,
   "id": "79a21459-f63f-4f91-8150-b58a82720bb2",
   "metadata": {},
   "outputs": [],
   "source": [
    "import_folder_path = \"/Users/Jovan/Desktop/MDA_Project/DataSegmented\"\n",
    "export_folder_path = \"/Users/Jovan/Desktop/MDA_Project/DistanceMatrices\"\n",
    "\n",
    "cities = [\"Antwerpen\", \"Brugge\", \"Brussels\", \"Charleroi\", \"Gent\", \"Leuven\", \"Liege\", \"Oostende\"]\n",
    "\n",
    "RATIO_EMERGENCY_NORMAL = 0.65"
   ]
  },
  {
   "cell_type": "code",
   "execution_count": null,
   "id": "1320a1a1-9876-405f-a9d1-6ec62ba75b51",
   "metadata": {},
   "outputs": [],
   "source": [
    "# def df_to_coordinates(df):\n",
    "#     return list(df.itertuples(index=False, name=None))"
   ]
  },
  {
   "cell_type": "code",
   "execution_count": null,
   "id": "bfad2181-a69b-4451-81d0-376ea78f0c5b",
   "metadata": {},
   "outputs": [],
   "source": [
    "# def get_distance_matrix_chunk(orig, dest, mode, coef = 1)\n",
    "#     result = gmaps.distance_matrix(origins = orig, destinations = dest, mode = mode)\n",
    "\n",
    "#     time_matrix = [\n",
    "#         [element['duration']['value'] for element in row['elements']]\n",
    "#         for row in result['rows']\n",
    "#     ]\n",
    "\n",
    "#     return(time_matrix_df * coef)"
   ]
  },
  {
   "cell_type": "code",
   "execution_count": null,
   "id": "239088ad-9686-4598-a5be-b0da3ef95014",
   "metadata": {},
   "outputs": [],
   "source": [
    "# def get_distance_matrix(origins, destinations, mode, coef=1):\n",
    "#     num_origins = len(origins)\n",
    "#     num_destinations = len(destinations)\n",
    "#     result_matrix = np.zeros((num_origins, num_destinations))\n",
    "\n",
    "#     orig_iter_list = range(0, num_origins, MAX_CHUNK)\n",
    "#     dest_iter_list = range(0, num_destinations, MAX_CHUNK)\n",
    "#     # Iterate over origins in chunks of 10\n",
    "#     for i in orig_iter_list:\n",
    "#         orig_chunk = origins[i:i+MAX_CHUNK]\n",
    "        \n",
    "#         for j in dest_iter_list:\n",
    "#             dest_chunk = destinations[j:j+MAX_CHUNK]\n",
    "            \n",
    "#             # Calculate distance matrix for the chunk\n",
    "#             chunk_matrix = get_distance_matrix_chunk(orig_chunk, dest_chunk, mode, coef)\n",
    "#             # Update the result matrix with the chunk matrix\n",
    "#             result_matrix[i:i+MAX_CHUNK, j:j+MAX_CHUNK] = chunk_matrix\n",
    "    \n",
    "#     # If there are remaining origins or destinations\n",
    "#     if num_origins % MAX_CHUNK != 0 or num_destinations % MAX_CHUNK != 0:\n",
    "#         remaining_matrix = get_distance_matrix_chunk(origins[num_origins - num_origins % MAX_CHUNK:], destinations[num_destinations - num_destinations % MAX_CHUNK:], mode, coef)\n",
    "#         result_matrix[-num_origins % MAX_CHUNK:, -num_destinations % MAX_CHUNK:] = remaining_matrix\n",
    "    \n",
    "#     return result_matrix"
   ]
  },
  {
   "cell_type": "markdown",
   "id": "f2e2958d-9ef0-4a48-9ae7-ac58ff1e2d96",
   "metadata": {},
   "source": [
    "## Functions"
   ]
  },
  {
   "cell_type": "code",
   "execution_count": null,
   "id": "9f226d64-b9c6-435c-92af-19f0e3aad1b8",
   "metadata": {},
   "outputs": [],
   "source": [
    "# Adjusting coordinates so they suit directions() function\n",
    "\n",
    "def format_coordinates(latitude, longitude):\n",
    "    return f\"{latitude}, {longitude}\""
   ]
  },
  {
   "cell_type": "code",
   "execution_count": null,
   "id": "c0673b76-3b6a-4d32-a8f5-e7e9ea633a79",
   "metadata": {},
   "outputs": [],
   "source": [
    "# Calculates distance matrix for given sets of origin and destination coordinates\n",
    "\n",
    "def get_distance_matrix(origins, destinations, mode, coef = 1):\n",
    "    num_origins = len(origins)\n",
    "    num_destinations = len(destinations)\n",
    "    result_matrix = np.zeros((num_origins, num_destinations))\n",
    "\n",
    "    for i in range(0, num_origins):\n",
    "        for j in range(0, num_destinations):\n",
    "            orig = format_coordinates(origins.iloc[i, 0], origins.iloc[i, 1])\n",
    "            dest = format_coordinates(destinations.iloc[j, 0], destinations.iloc[j, 1])\n",
    "            result_matrix[i][j] = gmaps.directions(orig, dest, mode)[0]['legs'][0]['duration']['value']\n",
    "\n",
    "    return(result_matrix * coef)"
   ]
  },
  {
   "cell_type": "markdown",
   "id": "bdfa33d1-8975-4049-8686-f8e6456255d5",
   "metadata": {
    "jp-MarkdownHeadingCollapsed": true
   },
   "source": [
    "## Individual (old) part - works 1 by 1. Use loop instead"
   ]
  },
  {
   "cell_type": "markdown",
   "id": "a669517d-ae3c-4c52-a8a2-09635df5cd44",
   "metadata": {},
   "source": [
    "### Import data"
   ]
  },
  {
   "cell_type": "code",
   "execution_count": null,
   "id": "3a2b5ccb-b56a-4fc8-a7b6-2cde4ac0a368",
   "metadata": {},
   "outputs": [],
   "source": [
    "os.chdir(import_folder_path)\n",
    "\n",
    "aeds = pd.read_csv(city + \"_aeds.csv\")\n",
    "cards = pd.read_csv(city + \"_cards.csv\")\n",
    "vehicles = pd.read_csv(city + \"_vehicles.csv\")"
   ]
  },
  {
   "cell_type": "markdown",
   "id": "3c1e98d4-9907-4441-8cc0-2d3c8ce999cb",
   "metadata": {},
   "source": [
    "### Moveable column"
   ]
  },
  {
   "cell_type": "markdown",
   "id": "8f82ff96-b112-49db-a91e-f3bf51df0db2",
   "metadata": {},
   "source": [
    "For AEDs: moveable is 1 if public, moveable is 0 if private or unknown\n",
    "For vehicles: moveable is always 0"
   ]
  },
  {
   "cell_type": "code",
   "execution_count": null,
   "id": "6d7d7ac9-272a-4065-889f-91c056d4a2d6",
   "metadata": {},
   "outputs": [],
   "source": [
    "aeds['public'] = aeds['public'].fillna(0)\n",
    "aeds['public'] = aeds['public'].astype(bool)\n",
    "aeds = aeds.rename(columns={'public': 'moveable'})\n",
    "\n",
    "vehicles['moveable'] = 0"
   ]
  },
  {
   "cell_type": "markdown",
   "id": "7c6a33f2-c52c-4938-a41c-1b6778954349",
   "metadata": {},
   "source": [
    "### Distance Matrix"
   ]
  },
  {
   "cell_type": "code",
   "execution_count": null,
   "id": "e3ec6e72-23bb-4096-91d4-e80e5d171c7d",
   "metadata": {},
   "outputs": [],
   "source": [
    "aeds_coordinates = aeds[['latitude', 'longitude']]\n",
    "vehicles_coordinates = vehicles[['latitude', 'longitude']]\n",
    "cards_coordinates = cards[['latitude', 'longitude']]"
   ]
  },
  {
   "cell_type": "code",
   "execution_count": null,
   "id": "99ce38e2-9537-47c7-af4c-9256dc97e189",
   "metadata": {},
   "outputs": [],
   "source": [
    "aeds_dm = get_distance_matrix(aed_coordinates, cards_coordinates, \"walking\")\n",
    "vehicles_dm = get_distance_matrix(vehicles_coordinates, cards_coordinates, \"driving\", RATIO_EMERGENCY_NORMAL)"
   ]
  },
  {
   "cell_type": "code",
   "execution_count": null,
   "id": "0485fc19-74ce-4251-9da2-3395cd6e887d",
   "metadata": {},
   "outputs": [],
   "source": [
    "aeds_dm = np.hstack((aeds_dm, aeds[\"moveable\"].values.reshape(-1, 1)))\n",
    "vehicles_dm = np.hstack((vehicles_dm, vehicles[\"moveable\"].values.reshape(-1, 1)))"
   ]
  },
  {
   "cell_type": "code",
   "execution_count": null,
   "id": "20a16fd7-18cf-4336-9230-0e61340b6247",
   "metadata": {},
   "outputs": [],
   "source": [
    "distance_matrix = np.vstack((aeds_dm, vehicles_dm))"
   ]
  },
  {
   "cell_type": "markdown",
   "id": "379293d5-bee4-4194-9e90-d669c2794a0c",
   "metadata": {},
   "source": [
    "### Export"
   ]
  },
  {
   "cell_type": "code",
   "execution_count": null,
   "id": "9b1404fb-c7d1-42d9-b1e4-90964ea9df7b",
   "metadata": {},
   "outputs": [],
   "source": [
    "os.chdir(export_folder_path)\n",
    "\n",
    "df = pd.DataFrame(distance_matrix)\n",
    "df.to_csv(\"Leuven_distance_matrix.csv\", index=False)"
   ]
  },
  {
   "cell_type": "markdown",
   "id": "a969fe6c-e04f-4804-bb90-17d9e1d8c3ae",
   "metadata": {},
   "source": [
    "## Loop"
   ]
  },
  {
   "cell_type": "code",
   "execution_count": null,
   "id": "c2027130-790c-4c6f-97b4-eb49e777038d",
   "metadata": {},
   "outputs": [],
   "source": [
    "for city in cities:\n",
    "    # Import data on the city\n",
    "    os.chdir(import_folder_path)\n",
    "    aeds = pd.read_csv(city + \"_aeds.csv\")\n",
    "    cards = pd.read_csv(city + \"_cards.csv\")\n",
    "    vehicles = pd.read_csv(city + \"_vehicles.csv\")\n",
    "    print(\"Importing \" + city + \" successful!\")\n",
    "\n",
    "    # Make moveable columns for aeds and vehicles\n",
    "    # For AEDs: moveable is 1 if public, moveable is 0 if private or unknown\n",
    "    # For vehicles: moveable is always 0\n",
    "    aeds['public'] = aeds['public'].fillna(0)\n",
    "    aeds['public'] = aeds['public'].astype(bool)\n",
    "    aeds = aeds.rename(columns={'public': 'moveable'})\n",
    "    vehicles['moveable'] = 0\n",
    "    print(\"Made moveable columns!\")\n",
    "\n",
    "    # Prepare distance matrix\n",
    "    aeds_coordinates = aeds[['latitude', 'longitude']]\n",
    "    vehicles_coordinates = vehicles[['latitude', 'longitude']]\n",
    "    cards_coordinates = cards[['latitude', 'longitude']]\n",
    "    \n",
    "    aeds_dm = get_distance_matrix(aeds_coordinates, cards_coordinates, \"walking\")\n",
    "    vehicles_dm = get_distance_matrix(vehicles_coordinates, cards_coordinates, \"driving\", RATIO_EMERGENCY_NORMAL)\n",
    "\n",
    "    aeds_dm = np.hstack((aeds_dm, aeds[\"moveable\"].values.reshape(-1, 1)))\n",
    "    vehicles_dm = np.hstack((vehicles_dm, vehicles[\"moveable\"].values.reshape(-1, 1)))\n",
    "    distance_matrix = np.vstack((aeds_dm, vehicles_dm))\n",
    "\n",
    "    # Export\n",
    "    os.chdir(export_folder_path)\n",
    "    df = pd.DataFrame(distance_matrix)\n",
    "    df.to_csv(city + \"_distance_matrix.csv\", index=False)\n"
   ]
  }
 ],
 "metadata": {
  "kernelspec": {
   "display_name": "Python 3 (ipykernel)",
   "language": "python",
   "name": "python3"
  },
  "language_info": {
   "codemirror_mode": {
    "name": "ipython",
    "version": 3
   },
   "file_extension": ".py",
   "mimetype": "text/x-python",
   "name": "python",
   "nbconvert_exporter": "python",
   "pygments_lexer": "ipython3",
   "version": "3.9.19"
  }
 },
 "nbformat": 4,
 "nbformat_minor": 5
}
