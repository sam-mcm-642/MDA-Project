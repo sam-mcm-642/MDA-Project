{
 "cells": [
  {
   "cell_type": "code",
   "execution_count": 2,
   "metadata": {},
   "outputs": [],
   "source": [
    "import googlemaps"
   ]
  },
  {
   "cell_type": "code",
   "execution_count": 3,
   "metadata": {},
   "outputs": [
    {
     "name": "stdout",
     "output_type": "stream",
     "text": [
      "Help on module googlemaps.distance_matrix in googlemaps:\n",
      "\n",
      "NAME\n",
      "    googlemaps.distance_matrix - Performs requests to the Google Maps Distance Matrix API.\n",
      "\n",
      "FUNCTIONS\n",
      "    distance_matrix(client, origins, destinations, mode=None, language=None, avoid=None, units=None, departure_time=None, arrival_time=None, transit_mode=None, transit_routing_preference=None, traffic_model=None, region=None)\n",
      "        Gets travel distance and time for a matrix of origins and destinations.\n",
      "        \n",
      "        :param origins: One or more addresses, Place IDs, and/or latitude/longitude\n",
      "            values, from which to calculate distance and time. Each Place ID string\n",
      "            must be prepended with 'place_id:'. If you pass an address as a string,\n",
      "            the service will geocode the string and convert it to a\n",
      "            latitude/longitude coordinate to calculate directions.\n",
      "        :type origins: a single location, or a list of locations, where a\n",
      "            location is a string, dict, list, or tuple\n",
      "        \n",
      "        :param destinations: One or more addresses, Place IDs, and/or lat/lng values\n",
      "            , to which to calculate distance and time. Each Place ID string must be\n",
      "            prepended with 'place_id:'. If you pass an address as a string, the\n",
      "            service will geocode the string and convert it to a latitude/longitude\n",
      "            coordinate to calculate directions.\n",
      "        :type destinations: a single location, or a list of locations, where a\n",
      "            location is a string, dict, list, or tuple\n",
      "        \n",
      "        :param mode: Specifies the mode of transport to use when calculating\n",
      "            directions. Valid values are \"driving\", \"walking\", \"transit\" or\n",
      "            \"bicycling\".\n",
      "        :type mode: string\n",
      "        \n",
      "        :param language: The language in which to return results.\n",
      "        :type language: string\n",
      "        \n",
      "        :param avoid: Indicates that the calculated route(s) should avoid the\n",
      "            indicated features. Valid values are \"tolls\", \"highways\" or \"ferries\".\n",
      "        :type avoid: string\n",
      "        \n",
      "        :param units: Specifies the unit system to use when displaying results.\n",
      "            Valid values are \"metric\" or \"imperial\".\n",
      "        :type units: string\n",
      "        \n",
      "        :param departure_time: Specifies the desired time of departure.\n",
      "        :type departure_time: int or datetime.datetime\n",
      "        \n",
      "        :param arrival_time: Specifies the desired time of arrival for transit\n",
      "            directions. Note: you can't specify both departure_time and\n",
      "            arrival_time.\n",
      "        :type arrival_time: int or datetime.datetime\n",
      "        \n",
      "        :param transit_mode: Specifies one or more preferred modes of transit.\n",
      "            This parameter may only be specified for requests where the mode is\n",
      "            transit. Valid values are \"bus\", \"subway\", \"train\", \"tram\", \"rail\".\n",
      "            \"rail\" is equivalent to [\"train\", \"tram\", \"subway\"].\n",
      "        :type transit_mode: string or list of strings\n",
      "        \n",
      "        :param transit_routing_preference: Specifies preferences for transit\n",
      "            requests. Valid values are \"less_walking\" or \"fewer_transfers\".\n",
      "        :type transit_routing_preference: string\n",
      "        \n",
      "        :param traffic_model: Specifies the predictive travel time model to use.\n",
      "            Valid values are \"best_guess\" or \"optimistic\" or \"pessimistic\".\n",
      "            The traffic_model parameter may only be specified for requests where\n",
      "            the travel mode is driving, and where the request includes a\n",
      "            departure_time.\n",
      "        \n",
      "        :param region: Specifies the prefered region the geocoder should search\n",
      "            first, but it will not restrict the results to only this region. Valid\n",
      "            values are a ccTLD code.\n",
      "        :type region: string\n",
      "        \n",
      "        :rtype: matrix of distances. Results are returned in rows, each row\n",
      "            containing one origin paired with each destination.\n",
      "\n",
      "FILE\n",
      "    c:\\users\\lucas\\anaconda3\\lib\\site-packages\\googlemaps\\distance_matrix.py\n",
      "\n",
      "\n"
     ]
    }
   ],
   "source": [
    "help(googlemaps.distance_matrix)"
   ]
  }
 ],
 "metadata": {
  "kernelspec": {
   "display_name": "base",
   "language": "python",
   "name": "python3"
  },
  "language_info": {
   "codemirror_mode": {
    "name": "ipython",
    "version": 3
   },
   "file_extension": ".py",
   "mimetype": "text/x-python",
   "name": "python",
   "nbconvert_exporter": "python",
   "pygments_lexer": "ipython3",
   "version": "3.9.13"
  }
 },
 "nbformat": 4,
 "nbformat_minor": 2
}
