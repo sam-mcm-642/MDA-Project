{
 "cells": [
  {
   "cell_type": "code",
   "execution_count": 1,
   "metadata": {},
   "outputs": [],
   "source": [
    "import pandas as pd\n",
    "import numpy as np\n",
    "from scipy.stats import gaussian_kde"
   ]
  },
  {
   "cell_type": "code",
   "execution_count": 3,
   "metadata": {},
   "outputs": [
    {
     "name": "stderr",
     "output_type": "stream",
     "text": [
      "C:\\Users\\hussa\\AppData\\Local\\Temp\\ipykernel_1508\\1859167857.py:17: SettingWithCopyWarning: \n",
      "A value is trying to be set on a copy of a slice from a DataFrame.\n",
      "Try using .loc[row_indexer,col_indexer] = value instead\n",
      "\n",
      "See the caveats in the documentation: https://pandas.pydata.org/pandas-docs/stable/user_guide/indexing.html#returning-a-view-versus-a-copy\n",
      "  cards_df['density'] = density\n"
     ]
    }
   ],
   "source": [
    "app_data = pd.read_csv(\"C:/Users/hussa/OneDrive - KU Leuven/Master 1/Semester 2/Modern Data Analytics/Project/mda-final-test/mda-application/app_data.csv\")\n",
    "#Filter the DataFrame for type \"Cards\" only\n",
    "cards_df = app_data[app_data['type'] == 'card']\n",
    "\n",
    "# Extract longitude and latitude values for type \"Cards\"\n",
    "longitude = cards_df['lon'].values\n",
    "latitude = cards_df['lat'].values\n",
    "\n",
    "# Combine longitude and latitude into a single array for KDE estimation\n",
    "coordinates = np.vstack([longitude, latitude])\n",
    "\n",
    "# Calculate density using KDE\n",
    "kde = gaussian_kde(coordinates)\n",
    "density = kde(coordinates)\n",
    "\n",
    "# Add the density values to the DataFrame\n",
    "cards_df['density'] = density\n",
    "\n",
    "# Now cards_df contains the density values calculated based on longitude and latitude for type \"Cards\"\n",
    "cards_df.to_csv(\"cards_with_density.csv\",index=False)"
   ]
  }
 ],
 "metadata": {
  "kernelspec": {
   "display_name": "mdaenv",
   "language": "python",
   "name": "python3"
  },
  "language_info": {
   "codemirror_mode": {
    "name": "ipython",
    "version": 3
   },
   "file_extension": ".py",
   "mimetype": "text/x-python",
   "name": "python",
   "nbconvert_exporter": "python",
   "pygments_lexer": "ipython3",
   "version": "3.10.14"
  }
 },
 "nbformat": 4,
 "nbformat_minor": 2
}
