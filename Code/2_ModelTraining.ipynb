{
 "cells": [
  {
   "cell_type": "markdown",
   "id": "5256a220-3abb-4b45-afb6-ad8f97abf212",
   "metadata": {},
   "source": [
    "# MODEL TRAINING"
   ]
  },
  {
   "cell_type": "markdown",
   "id": "816a1f1e-b0c3-452a-8667-ab87da023780",
   "metadata": {},
   "source": [
    "## Libraries, Constants, Functions"
   ]
  },
  {
   "cell_type": "code",
   "execution_count": null,
   "id": "2ca46f39-f0a6-4369-b553-0d5e596564bc",
   "metadata": {},
   "outputs": [],
   "source": [
    "from libraries import *\n",
    "from constants import *\n",
    "from functions import *\n",
    "\n",
    "gmaps = googlemaps.Client(key = GOOGLE_API_KEY)"
   ]
  },
  {
   "cell_type": "markdown",
   "id": "a969fe6c-e04f-4804-bb90-17d9e1d8c3ae",
   "metadata": {},
   "source": [
    "## Calculating Cost Matrices"
   ]
  },
  {
   "cell_type": "code",
   "execution_count": null,
   "id": "53e0050f-dc9d-4a45-b358-66e84051d30a",
   "metadata": {},
   "outputs": [],
   "source": [
    "# Load aeds, cards and possible_locations\n",
    "\n",
    "aeds = {}\n",
    "cards = {}\n",
    "possible_locations = {}\n",
    "\n",
    "for city in cities:\n",
    "    os.chdir(data_path + clean_path)\n",
    "    aeds[city] = pd.read_csv(city + \"_aeds.csv\")\n",
    "    cards[city] = pd.read_csv(city + \"_cards_train.csv\")\n",
    "\n",
    "    os.chdir(data_path + possible_locations_path)\n",
    "    possible_locations[city] = pd.read_csv(city + \"_possible_locations.csv\")"
   ]
  },
  {
   "cell_type": "code",
   "execution_count": null,
   "id": "f5b194f7-4d17-483f-bf68-94cf42399b21",
   "metadata": {},
   "outputs": [],
   "source": [
    "# Make 'mandatory' columns\n",
    "\n",
    "predefined_lists = {}\n",
    "\n",
    "for city in cities:\n",
    "    aeds_df = aeds[city]\n",
    "    possible_locations_df = possible_locations[city]\n",
    "    \n",
    "    aeds_df['public'] = aeds_df['public'].fillna(0)\n",
    "    aeds_df['public'] = ~aeds_df['public'].astype(bool)\n",
    "    aeds_df = aeds_df.rename(columns={'public': 'mandatory'})\n",
    "    \n",
    "    possible_locations_df['mandatory'] = 0\n",
    "    possible_locations_df['mandatory'] = possible_locations_df['mandatory'].astype(bool)\n",
    "\n",
    "    predefined_list_df = pd.concat([aeds_df['mandatory'], possible_locations_df['mandatory']], ignore_index = True)\n",
    "    predefined_list_np = predefined_list_df.to_numpy().flatten()\n",
    "    predefined_lists[city] = predefined_list_np"
   ]
  },
  {
   "cell_type": "code",
   "execution_count": null,
   "id": "0512e4d2-9f5c-4fce-8b83-9aaf10d5f9d0",
   "metadata": {},
   "outputs": [],
   "source": [
    "# Keep only coordinate columns\n",
    "\n",
    "for city in cities:\n",
    "    aeds[city] = aeds[city][['latitude', 'longitude']]\n",
    "    possible_locations[city][['latitude', 'longitude']] = possible_locations[city]['geometry'].apply(\n",
    "        lambda x: pd.Series(get_coordinates_from_geometry(x))\n",
    "    )\n",
    "    possible_locations[city] = possible_locations[city][['latitude', 'longitude']]\n",
    "    \n",
    "    cards[city] = cards[city][['latitude', 'longitude']]"
   ]
  },
  {
   "cell_type": "code",
   "execution_count": null,
   "id": "a4ae977d-9b7a-4c8d-9e25-4851df484043",
   "metadata": {
    "scrolled": true
   },
   "outputs": [],
   "source": [
    "# Calculate cost matrix\n",
    "\n",
    "cost_matrices = {}\n",
    "\n",
    "for city in cities:\n",
    "    print(\"Current city: \" + city)\n",
    "    combined_locations = pd.concat([aeds[city], possible_locations[city]], ignore_index=True)\n",
    "    \n",
    "    # Euclidean distance matrix\n",
    "    distance_matrix = cdist(cards[city], combined_locations, metric = 'euclidean')  # Transposed\n",
    "    flag_matrix = np.zeros_like(distance_matrix)\n",
    "    \n",
    "    for row in range(distance_matrix.shape[0]):\n",
    "        row_indices = np.argsort(distance_matrix[row, :])[:CLOSEST_AEDS]\n",
    "        flag_matrix[row, row_indices] = 1\n",
    "    \n",
    "    # Column names\n",
    "    cards_str = cards[city].apply(lambda x: f\"{x['latitude']}, {x['longitude']}\", axis = 1)\n",
    "    flag_matrix = pd.DataFrame(flag_matrix, index = cards_str, columns = combined_locations.apply(tuple, axis = 1))\n",
    "    flag_matrix.replace(0, INF_LENGTH, inplace=True)\n",
    "\n",
    "    confirmation = input(f\"This will initialize {len(flag_matrix) * CLOSEST_AEDS} API requests. Are you sure? (yes/no): \")\n",
    "    if confirmation == \"yes\":            \n",
    "        # Replace all marked cells with real calculated distances\n",
    "        cost_matrices[city] = replace_1_with_distances(flag_matrix)        \n",
    "    else:\n",
    "        print(\"OK. Will not procced.\\n\")"
   ]
  },
  {
   "cell_type": "markdown",
   "id": "870b8c18-a229-411f-92b7-f9592f8ea210",
   "metadata": {},
   "source": [
    "## Max Coverage algorithm"
   ]
  },
  {
   "cell_type": "code",
   "execution_count": null,
   "id": "e0debf18-c95c-44da-92d4-9dacc3a16b27",
   "metadata": {},
   "outputs": [],
   "source": [
    "os.chdir(data_path + optimal_indicators_path)\n",
    "\n",
    "for city in cities:\n",
    "    print(\"Optimizing \" + city + \"...\\n\")\n",
    "    \n",
    "    mclp = MCLP.from_cost_matrix(cost_matrix = cost_matrices[city].to_numpy(),\n",
    "                                 predefined_facilities_arr = predefined_lists[city],\n",
    "                                 weights = np.ones(cost_matrices[city].shape[0]),\n",
    "                                 p_facilities = len(aeds[city]),\n",
    "                                 service_radius = COVERAGE_RADIUS)\n",
    "\n",
    "    mclp = mclp.solve(pulp.PULP_CBC_CMD(msg=False))\n",
    "\n",
    "    facility_status = []\n",
    "    for i, variable in enumerate(mclp.fac_vars):\n",
    "        if variable.varValue == 1:\n",
    "            status = True\n",
    "        else:\n",
    "            status = False\n",
    "        facility_status.append([status])\n",
    "\n",
    "    optimal_indicators = pd.DataFrame(facility_status, columns=['SelectionStatus'])\n",
    "    optimal_indicators.to_csv(f'{city}_optimal_indicators.csv', index = False)"
   ]
  }
 ],
 "metadata": {
  "kernelspec": {
   "display_name": "Python 3 (ipykernel)",
   "language": "python",
   "name": "python3"
  },
  "language_info": {
   "codemirror_mode": {
    "name": "ipython",
    "version": 3
   },
   "file_extension": ".py",
   "mimetype": "text/x-python",
   "name": "python",
   "nbconvert_exporter": "python",
   "pygments_lexer": "ipython3",
   "version": "3.10.14"
  }
 },
 "nbformat": 4,
 "nbformat_minor": 5
}
