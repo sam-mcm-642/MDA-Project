{
 "cells": [
  {
   "cell_type": "markdown",
   "id": "5256a220-3abb-4b45-afb6-ad8f97abf212",
   "metadata": {},
   "source": [
    "# MODEL TRAINING"
   ]
  },
  {
   "cell_type": "markdown",
   "id": "816a1f1e-b0c3-452a-8667-ab87da023780",
   "metadata": {},
   "source": [
    "## Libraries, Constants, Functions"
   ]
  },
  {
   "cell_type": "markdown",
   "id": "8b849b64-a39f-4238-82f3-fc256bbb2620",
   "metadata": {},
   "source": [
    "Importing libraries, constants, and functions from separate .py files, to enhance efficiency and promote code reuse across multiple notebooks."
   ]
  },
  {
   "cell_type": "code",
   "execution_count": null,
   "id": "2ca46f39-f0a6-4369-b553-0d5e596564bc",
   "metadata": {},
   "outputs": [],
   "source": [
    "from libraries import *\n",
    "from constants import *\n",
    "from functions import *"
   ]
  },
  {
   "cell_type": "markdown",
   "id": "a969fe6c-e04f-4804-bb90-17d9e1d8c3ae",
   "metadata": {},
   "source": [
    "## Preparing data for calculations"
   ]
  },
  {
   "cell_type": "markdown",
   "id": "7b187387-e647-4deb-94ad-b6fe47f9116f",
   "metadata": {},
   "source": [
    "Loading AED data, interventions data, and potential locations for AEDs for each city and storing them in dictionaries. For interventions, train data is loaded, given that the goal is to find what is the optimal coverage of AEDs for the specific city."
   ]
  },
  {
   "cell_type": "code",
   "execution_count": null,
   "id": "53e0050f-dc9d-4a45-b358-66e84051d30a",
   "metadata": {},
   "outputs": [],
   "source": [
    "aeds = {}\n",
    "cards = {}\n",
    "possible_locations = {}\n",
    "\n",
    "for city in cities:\n",
    "    os.chdir(data_path + clean_path)\n",
    "    aeds[city] = pd.read_csv(city + \"_aeds.csv\")\n",
    "    cards[city] = pd.read_csv(city + \"_cards_train.csv\")\n",
    "\n",
    "    os.chdir(data_path + possible_locations_path)\n",
    "    possible_locations[city] = pd.read_csv(city + \"_possible_locations.csv\")"
   ]
  },
  {
   "cell_type": "markdown",
   "id": "2cb192b8-69a8-4c3a-aa92-2614a36ee4ff",
   "metadata": {},
   "source": [
    "The max coverage algorithm necessitates a predefined column, here named \"mandatory,\" for clarity. In essence, the algorithm requires explicit clarification for each AED regarding whether its inclusion in the final AED placement is mandatory or not.\n",
    "\n",
    "As privately owned AEDs cannot be relocated, their mandatory value is set to 1, indicating that these locations must be included in the final AED placement. On the other hand, public AEDs can be relocated, so their mandatory value is 0, indicating optional inclusion.\n",
    "\n",
    "For potential locations, the mandatory value is set to 0, as these locations are simply possibilities for AED placement."
   ]
  },
  {
   "cell_type": "code",
   "execution_count": null,
   "id": "f5b194f7-4d17-483f-bf68-94cf42399b21",
   "metadata": {},
   "outputs": [],
   "source": [
    "predefined_lists = {}\n",
    "\n",
    "for city in cities:\n",
    "    aeds_df = aeds[city]\n",
    "    possible_locations_df = possible_locations[city]\n",
    "    \n",
    "    aeds_df['public'] = aeds_df['public'].fillna(0)\n",
    "    aeds_df['public'] = ~aeds_df['public'].astype(bool)\n",
    "    aeds_df = aeds_df.rename(columns={'public': 'mandatory'})\n",
    "    \n",
    "    possible_locations_df['mandatory'] = 0\n",
    "    possible_locations_df['mandatory'] = possible_locations_df['mandatory'].astype(bool)\n",
    "\n",
    "    predefined_list_df = pd.concat([aeds_df['mandatory'], possible_locations_df['mandatory']], ignore_index = True)\n",
    "    predefined_list_np = predefined_list_df.to_numpy().flatten()\n",
    "    predefined_lists[city] = predefined_list_np"
   ]
  },
  {
   "cell_type": "markdown",
   "id": "9df959f8-1c14-431a-afb2-79677f0e5dc1",
   "metadata": {},
   "source": [
    "Retaining only latitude and longitude locations, as or calculating cost matrices only those are necessary. Data is combined in order to have complete list of all possible locations for AED, including previous and potential ones."
   ]
  },
  {
   "cell_type": "code",
   "execution_count": null,
   "id": "0512e4d2-9f5c-4fce-8b83-9aaf10d5f9d0",
   "metadata": {},
   "outputs": [],
   "source": [
    "combined_locations = {}\n",
    "\n",
    "for city in cities:\n",
    "    aeds[city] = aeds[city][['latitude', 'longitude']]\n",
    "    possible_locations[city][['latitude', 'longitude']] = possible_locations[city]['geometry'].apply(\n",
    "        lambda x: pd.Series(get_coordinates_from_geometry(x))\n",
    "    )\n",
    "    possible_locations[city] = possible_locations[city][['latitude', 'longitude']]\n",
    "    \n",
    "    cards[city] = cards[city][['latitude', 'longitude']]\n",
    "    combined_locations[city] = pd.concat([aeds[city], possible_locations[city]], ignore_index=True)"
   ]
  },
  {
   "cell_type": "markdown",
   "id": "d87b8fe0-de59-434b-86a4-6bc887d7d43a",
   "metadata": {},
   "source": [
    "## Calculating cost matrices"
   ]
  },
  {
   "cell_type": "markdown",
   "id": "e2ce6203-21bf-4b9c-9801-f986061ed798",
   "metadata": {},
   "source": [
    "Due to the limitation of free credits with the Google API, the number of calculations had to be significantly reduced. Instead of calculating the exact distance between each cardiac arrest and each AED, only the distances to its 10 closest AEDs are computed. Initially, the Euclidean distance between each pair is calculated, and then the 10 closest ones are flagged with a value of 1, indicating that the exact calculation needs to be performed using Google's Distance Matrix API.\n",
    "\n",
    "For each city, the user is prompted to decide whether to proceed with the calculations to avoid unwanted costs."
   ]
  },
  {
   "cell_type": "code",
   "execution_count": null,
   "id": "11501c86-4178-4284-a96b-21e732380ecd",
   "metadata": {},
   "outputs": [],
   "source": [
    "cost_matrices = {}\n",
    "\n",
    "for city in cities:\n",
    "    print(\"Current city: \" + city)\n",
    "    \n",
    "    cost_matrices[city] = get_cost_matrix(cards, combined_locations, city, CLOSEST_AEDS)"
   ]
  },
  {
   "cell_type": "markdown",
   "id": "870b8c18-a229-411f-92b7-f9592f8ea210",
   "metadata": {},
   "source": [
    "## Max Coverage algorithm"
   ]
  },
  {
   "cell_type": "markdown",
   "id": "3b821173-3fb6-45b9-adce-c3ab1ff4bb6b",
   "metadata": {},
   "source": [
    "Employing the algorithm for each city.\n",
    "\n",
    "Implementing it requires several arguments, including:\n",
    "- Cost matrix, mandatory column, and the number of AEDs in that city, all of which were calculated in the previous part of this notebook;\n",
    "- Weights, which are set to 1 for simplicity;\n",
    "- Coverage radius, which is set to 150, meaning the algorithm aims to optimize coverage so that the majority of cards have an AED within 150m.\n",
    "\n",
    "These values are exported as true/false for the combined dataset (current AEDs + all possible locations). The number of \"true\" values is equal to the number of current AEDs since the existing ones are only being rearranged, while not adding new AEDs."
   ]
  },
  {
   "cell_type": "code",
   "execution_count": null,
   "id": "e0debf18-c95c-44da-92d4-9dacc3a16b27",
   "metadata": {},
   "outputs": [],
   "source": [
    "os.chdir(data_path + optimal_indicators_path)\n",
    "\n",
    "for city in cities:\n",
    "    print(\"Optimizing \" + city + \"...\\n\")\n",
    "    \n",
    "    mclp = MCLP.from_cost_matrix(cost_matrix = cost_matrices[city].to_numpy(),\n",
    "                                 predefined_facilities_arr = predefined_lists[city],\n",
    "                                 weights = np.ones(cost_matrices[city].shape[0]),\n",
    "                                 p_facilities = len(aeds[city]),\n",
    "                                 service_radius = COVERAGE_RADIUS)\n",
    "\n",
    "    mclp = mclp.solve(pulp.PULP_CBC_CMD(msg=False))\n",
    "\n",
    "    facility_status = []\n",
    "    for i, variable in enumerate(mclp.fac_vars):\n",
    "        if variable.varValue == 1:\n",
    "            status = True\n",
    "        else:\n",
    "            status = False\n",
    "        facility_status.append([status])\n",
    "\n",
    "    optimal_indicators = pd.DataFrame(facility_status, columns=['SelectionStatus'])\n",
    "    optimal_indicators.to_csv(f'{city}_optimal_indicators.csv', index = False)"
   ]
  }
 ],
 "metadata": {
  "kernelspec": {
   "display_name": "Python 3 (ipykernel)",
   "language": "python",
   "name": "python3"
  },
  "language_info": {
   "codemirror_mode": {
    "name": "ipython",
    "version": 3
   },
   "file_extension": ".py",
   "mimetype": "text/x-python",
   "name": "python",
   "nbconvert_exporter": "python",
   "pygments_lexer": "ipython3",
   "version": "3.10.14"
  }
 },
 "nbformat": 4,
 "nbformat_minor": 5
}
