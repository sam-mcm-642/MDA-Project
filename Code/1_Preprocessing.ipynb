{
 "cells": [
  {
   "cell_type": "markdown",
   "id": "98def7d8-f865-4fcf-a3b6-48ba5e6664ac",
   "metadata": {},
   "source": [
    "# PREPROCESSING"
   ]
  },
  {
   "cell_type": "markdown",
   "id": "91e4c4b0-21d9-44c7-9ec2-12f067487a30",
   "metadata": {},
   "source": [
    "This notebook includes code to process the original data, extracting only the necessary information for modeling. The data is then segmented by city, as later tasks involve calculating distance matrices and implementing the max coverage algorithm separately.\n",
    "\n",
    "The dataset containing polygons for 15 Belgian cities is imported, but only 8 of them are selected: Antwerpen, Brugge, Brussels, Charleroi, Gent, Leuven, Liege, and Oostende. These cities provide public street locations suitable for potentially placing AEDs."
   ]
  },
  {
   "cell_type": "markdown",
   "id": "ec64dba8-fed3-4b1d-a5e0-6a7593062bfb",
   "metadata": {},
   "source": [
    "## Libraries, Constants, Functions"
   ]
  },
  {
   "cell_type": "markdown",
   "id": "0de7410c-b43c-4315-9c99-1aa07bdb9c0a",
   "metadata": {},
   "source": [
    "Importing libraries, constants, and functions from separate .py files, to enhance efficiency and promote code reuse across multiple notebooks."
   ]
  },
  {
   "cell_type": "code",
   "execution_count": 1,
   "id": "f3946c78-ca72-4528-88c5-5f494c949da0",
   "metadata": {},
   "outputs": [],
   "source": [
    "from libraries import *\n",
    "from constants import *\n",
    "from functions import *"
   ]
  },
  {
   "cell_type": "markdown",
   "id": "0df35bc3-b26f-444e-9a46-ec347f966426",
   "metadata": {},
   "source": [
    "## Importing data"
   ]
  },
  {
   "cell_type": "markdown",
   "id": "bedb16d7-d2ad-4983-93cf-b935d97c4575",
   "metadata": {},
   "source": [
    "Importing the original datasets for AEDs, interventions, and vehicles."
   ]
  },
  {
   "cell_type": "code",
   "execution_count": 2,
   "id": "3f1a90b5-4069-4358-8281-9176e9c42c70",
   "metadata": {},
   "outputs": [],
   "source": [
    "os.chdir(data_path + original_path)\n",
    "\n",
    "for filename in os.listdir():\n",
    "    if filename.endswith(\".parquet.gzip\"):\n",
    "        df_name = filename.split('.')[0]\n",
    "        globals()[df_name] = pd.read_parquet(filename)"
   ]
  },
  {
   "cell_type": "markdown",
   "id": "c2c84a9a-02f2-4fb6-95a4-189d552f1465",
   "metadata": {},
   "source": [
    "Importing the dataset with the city polygons"
   ]
  },
  {
   "cell_type": "code",
   "execution_count": 3,
   "id": "a38e92a7-3ef5-47a5-acd3-99b991e5755c",
   "metadata": {},
   "outputs": [],
   "source": [
    "cities = gpd.read_file(data_path + belgium_polygons_path)\n",
    "\n",
    "objectid_list = [1, 2, 3, 4, 5, 6, 8, 11]  \n",
    "cities = cities[cities['OBJECTID'].isin(objectid_list)]\n",
    "\n",
    "city_name_mapping = {\n",
    "    'Bruxelles / Brussel (greater city)': 'Brussels',\n",
    "    'Charleroi (greater city)': 'Charleroi',\n",
    "    'Liège (greater city)': 'Liege'\n",
    "}\n",
    "\n",
    "cities['CityName'] = cities['CityName'].replace(city_name_mapping)\n",
    "\n",
    "# Setting the CRS (Coordinate Reference System) to 4326\n",
    "cities = cities.to_crs(epsg=4326)"
   ]
  },
  {
   "cell_type": "markdown",
   "id": "d96fee16-b517-4abb-a31b-eafffd231ccf",
   "metadata": {},
   "source": [
    "## Preprocessing the original data"
   ]
  },
  {
   "cell_type": "markdown",
   "id": "d6305169-e182-4d7e-89bd-3029530414ca",
   "metadata": {},
   "source": [
    "### AED locations"
   ]
  },
  {
   "cell_type": "markdown",
   "id": "520757fa-e002-439a-82cd-9f34c7889164",
   "metadata": {},
   "source": [
    "Converting the 'public' column to binary values, making it 0 or 1."
   ]
  },
  {
   "cell_type": "code",
   "execution_count": 4,
   "id": "16d43bec-dc7f-45f4-bc17-31f5395e783b",
   "metadata": {},
   "outputs": [],
   "source": [
    "aed_locations['public'] = aed_locations['public'].fillna(\"0\")\n",
    "aed_locations['public'] = aed_locations['public'].apply(lambda x: \n",
    "    1 if x.lower().startswith(('o', 'j', 'y')) else 0\n",
    ")"
   ]
  },
  {
   "cell_type": "markdown",
   "id": "4a31700d-7a61-40b6-9565-91d3a1778250",
   "metadata": {},
   "source": [
    "Geocoding AED addresses to obtain coordinates using the Google Geocode API. It asks the user to confirm running 15,000 API requests to avoid unwanted costs. If confirmed, it retrieves the coordinates; otherwise, it sets all coordinates to 0."
   ]
  },
  {
   "cell_type": "code",
   "execution_count": 5,
   "id": "d1339f29-7bac-442e-b155-fae0549f8903",
   "metadata": {},
   "outputs": [
    {
     "name": "stdin",
     "output_type": "stream",
     "text": [
      "This will initialize 15227 API requests. Are you sure? (yes/no):  no\n"
     ]
    },
    {
     "name": "stdout",
     "output_type": "stream",
     "text": [
      "OK. All coordinates are set to 0.\n"
     ]
    }
   ],
   "source": [
    "addresses = (\n",
    "    aed_locations['address'].astype(str) + \", \" +\n",
    "    aed_locations['number'].astype(str) + \", \" +\n",
    "    aed_locations['postal_code'].astype(str) + \", \" +\n",
    "    aed_locations['municipality'].astype(str) + \", \" +\n",
    "    aed_locations['province'].astype(str)\n",
    ")\n",
    "\n",
    "confirmation = input(f\"This will initialize {len(addresses)} API requests. Are you sure? (yes/no): \")\n",
    "if confirmation == \"yes\":\n",
    "    print(\"OK. Geocoding...\")\n",
    "    geocoded = addresses.apply(lambda x: gmaps.geocode(x))\n",
    "    \n",
    "    latitude = geocoded.apply(lambda x: x[0]['geometry']['location']['lat'] if x else None)\n",
    "    longitude = geocoded.apply(lambda x: x[0]['geometry']['location']['lng'] if x else None)\n",
    "    coordinates = pd.DataFrame({'latitude': latitude, 'longitude': longitude})\n",
    "\n",
    "    aed_locations = pd.concat([aed_locations, coordinates], axis=1)\n",
    "else:\n",
    "    print(\"OK. All coordinates are set to 0.\")\n",
    "    aed_locations['latitude'] = 0\n",
    "    aed_locations['longitude'] = 0"
   ]
  },
  {
   "cell_type": "markdown",
   "id": "92d83f85-49b9-44b7-a861-1c8270437ee8",
   "metadata": {},
   "source": [
    "Renames 'municipality' column to 'city'"
   ]
  },
  {
   "cell_type": "code",
   "execution_count": 6,
   "id": "ebff1407-8f53-42ff-b58b-eb579ec206fa",
   "metadata": {},
   "outputs": [],
   "source": [
    "aed_locations.rename(columns={'municipality': 'city'}, inplace=True)"
   ]
  },
  {
   "cell_type": "markdown",
   "id": "611239d6-9132-44c1-ae05-cd71903b306d",
   "metadata": {},
   "source": [
    "Filtering the dataframe to keep only the processed columns, discarding the others."
   ]
  },
  {
   "cell_type": "code",
   "execution_count": 7,
   "id": "ea0561e2-deed-49c7-857f-ff229d038575",
   "metadata": {},
   "outputs": [],
   "source": [
    "aeds = aed_locations[['public', 'latitude', 'longitude', 'city']].copy()"
   ]
  },
  {
   "cell_type": "markdown",
   "id": "7e3cb8bd-88da-4163-81ec-f9e605b4ea2f",
   "metadata": {},
   "source": [
    "### Interventions (Cards)"
   ]
  },
  {
   "cell_type": "code",
   "execution_count": 8,
   "id": "f11331ca-7f13-45b5-9c16-5f4da36d9d3e",
   "metadata": {},
   "outputs": [],
   "source": [
    "interventions = pd.concat([interventions1, interventions2, interventions3], ignore_index=True)\n",
    "del interventions1, interventions2, interventions3"
   ]
  },
  {
   "cell_type": "markdown",
   "id": "a4d858ca-bebd-4d47-bb25-9909d53ec37c",
   "metadata": {},
   "source": [
    "Filtering only interventions related to cardiac events (P003, P011, P039) from all datasets."
   ]
  },
  {
   "cell_type": "code",
   "execution_count": 9,
   "id": "5ec946a6-ca26-4e91-8c40-fade171b02ba",
   "metadata": {},
   "outputs": [],
   "source": [
    "cardiac_codes_string = '|'.join(cardiac_codes)\n",
    "\n",
    "interventions = interventions[\n",
    "    interventions['EventType Firstcall'].str.contains(cardiac_codes_string) |\n",
    "    interventions['EventType Trip'].str.contains(cardiac_codes_string)\n",
    "]\n",
    "\n",
    "cad9['EventType Trip'] = cad9['EventType Trip'].fillna(\"unknown\")\n",
    "cad9 = cad9[cad9['EventType Trip'].str.contains(cardiac_codes_string)]\n",
    "\n",
    "interventions_bxl = interventions_bxl[\n",
    "    interventions_bxl['eventtype_firstcall'].str.contains(cardiac_codes_string) |\n",
    "    interventions_bxl['eventtype_trip'].str.contains(cardiac_codes_string)\n",
    "]\n",
    "\n",
    "interventions_bxl2['EventType and EventLevel'] = interventions_bxl2['EventType and EventLevel'].fillna(\"unknown\")\n",
    "interventions_bxl2 = interventions_bxl2[\n",
    "    interventions_bxl2['EventType and EventLevel'].str.contains(cardiac_codes_string)\n",
    "]"
   ]
  },
  {
   "cell_type": "markdown",
   "id": "fa7ffc0b-ab92-4844-98f1-a664e383828c",
   "metadata": {},
   "source": [
    "Filtering the dataframes to keep only the columns necessary for the model and ensuring they are named consistently across datasets for merging purposes."
   ]
  },
  {
   "cell_type": "code",
   "execution_count": 10,
   "id": "3754d18b-87f4-4dce-9511-8692d94d2092",
   "metadata": {},
   "outputs": [],
   "source": [
    "selected_columns = [\"Latitude intervention\", \"Longitude intervention\", \"CityName intervention\"]\n",
    "interventions = interventions[selected_columns]\n",
    "\n",
    "cad9 = cad9[selected_columns]\n",
    "\n",
    "selected_columns = [\"latitude_intervention\", \"longitude_intervention\", \"cityname_intervention\"]\n",
    "interventions_bxl = interventions_bxl[selected_columns]\n",
    "\n",
    "selected_columns = [\"Latitude intervention\", \"Longitude intervention\", \"Cityname Intervention\"]\n",
    "interventions_bxl2 = interventions_bxl2[selected_columns]\n",
    "\n",
    "colnames = [\"latitude\", \"longitude\", \"city\"]\n",
    "\n",
    "interventions.columns = colnames\n",
    "cad9.columns = colnames\n",
    "interventions_bxl.columns = colnames\n",
    "interventions_bxl2.columns = colnames\n",
    "\n",
    "cards = pd.concat([interventions, cad9, interventions_bxl, interventions_bxl2], ignore_index=True)\n",
    "\n",
    "del interventions, cad9, interventions_bxl, interventions_bxl2, colnames, selected_columns"
   ]
  },
  {
   "cell_type": "markdown",
   "id": "fdccd3e3-02c3-4581-bad3-9ff043730868",
   "metadata": {},
   "source": [
    "For some observations, the decimal spot on coordinates is incorrect, such as latitude being 5.1789 instead of 51.789. Consequently, the dataset is divided into two groups: one containing accurate coordinates and another containing incorrect ones. A user-defined function is then used to rectify the inaccurate coordinates."
   ]
  },
  {
   "cell_type": "code",
   "execution_count": 11,
   "id": "5ab7f68f-bfe1-42a0-81ad-2e4090cc438a",
   "metadata": {},
   "outputs": [],
   "source": [
    "# 2 - Correct format of coordinates\n",
    "cards2 = cards[\n",
    "    (cards['latitude'] >= BELGIUM_SOUTH) & (cards['latitude'] <= BELGIUM_NORTH) &\n",
    "    (cards['longitude'] >= BELGIUM_WEST) & (cards['longitude'] <= BELGIUM_EAST)\n",
    "]\n",
    "\n",
    "# 3 - Wrong format of coordinates (but no NAs)\n",
    "cards3 = cards[\n",
    "    (cards['latitude'] < BELGIUM_SOUTH) | (cards['latitude'] > BELGIUM_NORTH) |\n",
    "    (cards['longitude'] < BELGIUM_WEST) | (cards['longitude'] > BELGIUM_EAST)\n",
    "]\n",
    "cards3 = cards3[~cards3['latitude'].isna() & ~cards3['longitude'].isna()]\n",
    "\n",
    "# Fixing cards3\n",
    "cards3['latitude'] = cards3['latitude'].apply(lambda x: x / 10 if 100 <= x < 1000 else x)\n",
    "cards3['latitude'] = cards3['latitude'].apply(lambda x: insert_decimal(x, 2) if x >= 1000 else x)\n",
    "\n",
    "cards3['longitude'] = cards3['longitude'].apply(lambda x: x / 10 if 10 <= x < 100 else (x / 100 if 100 <= x < 1000 else x))\n",
    "cards3['longitude'] = cards3['longitude'].apply(lambda x: insert_decimal(x, 1) if x >= 1000 else x)\n",
    "\n",
    "# Concatenate\n",
    "cards = pd.concat([cards2, cards3])\n",
    "\n",
    "# Filter outlying values\n",
    "cards = cards[\n",
    "    (cards['latitude'] >= BELGIUM_SOUTH) & (cards['latitude'] <= BELGIUM_NORTH) &\n",
    "    (cards['longitude'] >= BELGIUM_WEST) & (cards['longitude'] <= BELGIUM_EAST)\n",
    "]\n",
    "\n",
    "cards['latitude'] = pd.to_numeric(cards['latitude'], errors='coerce')\n",
    "cards['longitude'] = pd.to_numeric(cards['longitude'], errors='coerce')\n",
    "cards = cards.drop_duplicates(subset=['latitude', 'longitude'], keep='last')"
   ]
  },
  {
   "cell_type": "markdown",
   "id": "48a43a49-88e0-433f-b9e4-8749113c9d10",
   "metadata": {},
   "source": [
    "## Segmenting data by city"
   ]
  },
  {
   "cell_type": "markdown",
   "id": "4c30f4e3-a5b7-4bda-b0cc-447097866a91",
   "metadata": {},
   "source": [
    "Segmenting both the AEDs and cards datasets by city. Furthermore, the cards dataset is randomly split into training and test data in a 75:25 ratio."
   ]
  },
  {
   "cell_type": "code",
   "execution_count": 12,
   "id": "5834502c-9731-4c36-a1fe-4871b35f9653",
   "metadata": {
    "scrolled": true
   },
   "outputs": [
    {
     "name": "stdout",
     "output_type": "stream",
     "text": [
      "Segmenting Brussels...\n",
      "Segmenting Antwerpen...\n",
      "Segmenting Gent...\n",
      "Segmenting Charleroi...\n",
      "Segmenting Liege...\n",
      "Segmenting Brugge...\n",
      "Segmenting Leuven...\n",
      "Segmenting Oostende...\n"
     ]
    }
   ],
   "source": [
    "os.chdir(data_path + clean_path)\n",
    "\n",
    "for city_name, city_polygon in cities[['CityName', 'geometry']].values:\n",
    "    print(\"Segmenting \" + city_name + \"...\")\n",
    "    # aeds\n",
    "    city_aeds = filter_points_within_polygon(aeds, city_polygon)\n",
    "    city_aeds.to_csv(f'{city_name}_aeds.csv', index=False)\n",
    "    \n",
    "    # cards - split into train and test sets\n",
    "    city_cards = filter_points_within_polygon(cards, city_polygon)\n",
    "    cards_train, cards_test = train_test_split(city_cards, test_size=TEST_SIZE, random_state=SEED)    \n",
    "    cards_train.to_csv(f'{city_name}_cards_train.csv', index=False)\n",
    "    cards_test.to_csv(f'{city_name}_cards_test.csv', index=False)"
   ]
  },
  {
   "cell_type": "markdown",
   "id": "bb8cece0-f0d5-431d-b2ef-66a2556637de",
   "metadata": {},
   "source": [
    "## Calculating possible AED locations"
   ]
  },
  {
   "cell_type": "markdown",
   "id": "9f05f103-8ede-4eb3-aba5-a01d711982be",
   "metadata": {},
   "source": [
    "Calculating coordinates for every potential location on public streets where AEDs could be placed. Due to the limited amount of free credits with the Google API, the number of possible locations is sampled. Then, only one location is retained from areas that are too close to each other to ensure better spreading out."
   ]
  },
  {
   "cell_type": "code",
   "execution_count": 14,
   "id": "556fae90-d357-49f5-92c9-fd80d8eae2b1",
   "metadata": {
    "scrolled": true
   },
   "outputs": [
    {
     "name": "stdout",
     "output_type": "stream",
     "text": [
      "Calculating possible AED locations for Brussels...\n"
     ]
    },
    {
     "name": "stderr",
     "output_type": "stream",
     "text": [
      "/Users/Jovan/Desktop/MDA-Project/Code/functions.py:32: FutureWarning: The `north`, `south`, `east`, and `west` parameters are deprecated and will be removed in the v2.0.0 release. Use the `bbox` parameter instead. See the OSMnx v2 migration guide: https://github.com/gboeing/osmnx/issues/1123\n",
      "  streets = ox.graph_from_bbox(north=bbox[3], south=bbox[1], east=bbox[2], west=bbox[0], network_type='all')\n"
     ]
    },
    {
     "name": "stdout",
     "output_type": "stream",
     "text": [
      "Calculating possible AED locations for Antwerpen...\n"
     ]
    },
    {
     "name": "stderr",
     "output_type": "stream",
     "text": [
      "/Users/Jovan/Desktop/MDA-Project/Code/functions.py:32: FutureWarning: The `north`, `south`, `east`, and `west` parameters are deprecated and will be removed in the v2.0.0 release. Use the `bbox` parameter instead. See the OSMnx v2 migration guide: https://github.com/gboeing/osmnx/issues/1123\n",
      "  streets = ox.graph_from_bbox(north=bbox[3], south=bbox[1], east=bbox[2], west=bbox[0], network_type='all')\n"
     ]
    },
    {
     "name": "stdout",
     "output_type": "stream",
     "text": [
      "Calculating possible AED locations for Gent...\n"
     ]
    },
    {
     "name": "stderr",
     "output_type": "stream",
     "text": [
      "/Users/Jovan/Desktop/MDA-Project/Code/functions.py:32: FutureWarning: The `north`, `south`, `east`, and `west` parameters are deprecated and will be removed in the v2.0.0 release. Use the `bbox` parameter instead. See the OSMnx v2 migration guide: https://github.com/gboeing/osmnx/issues/1123\n",
      "  streets = ox.graph_from_bbox(north=bbox[3], south=bbox[1], east=bbox[2], west=bbox[0], network_type='all')\n"
     ]
    },
    {
     "name": "stdout",
     "output_type": "stream",
     "text": [
      "Calculating possible AED locations for Charleroi...\n"
     ]
    },
    {
     "name": "stderr",
     "output_type": "stream",
     "text": [
      "/Users/Jovan/Desktop/MDA-Project/Code/functions.py:32: FutureWarning: The `north`, `south`, `east`, and `west` parameters are deprecated and will be removed in the v2.0.0 release. Use the `bbox` parameter instead. See the OSMnx v2 migration guide: https://github.com/gboeing/osmnx/issues/1123\n",
      "  streets = ox.graph_from_bbox(north=bbox[3], south=bbox[1], east=bbox[2], west=bbox[0], network_type='all')\n"
     ]
    },
    {
     "name": "stdout",
     "output_type": "stream",
     "text": [
      "Calculating possible AED locations for Liege...\n"
     ]
    },
    {
     "name": "stderr",
     "output_type": "stream",
     "text": [
      "/Users/Jovan/Desktop/MDA-Project/Code/functions.py:32: FutureWarning: The `north`, `south`, `east`, and `west` parameters are deprecated and will be removed in the v2.0.0 release. Use the `bbox` parameter instead. See the OSMnx v2 migration guide: https://github.com/gboeing/osmnx/issues/1123\n",
      "  streets = ox.graph_from_bbox(north=bbox[3], south=bbox[1], east=bbox[2], west=bbox[0], network_type='all')\n"
     ]
    },
    {
     "name": "stdout",
     "output_type": "stream",
     "text": [
      "Calculating possible AED locations for Brugge...\n"
     ]
    },
    {
     "name": "stderr",
     "output_type": "stream",
     "text": [
      "/Users/Jovan/Desktop/MDA-Project/Code/functions.py:32: FutureWarning: The `north`, `south`, `east`, and `west` parameters are deprecated and will be removed in the v2.0.0 release. Use the `bbox` parameter instead. See the OSMnx v2 migration guide: https://github.com/gboeing/osmnx/issues/1123\n",
      "  streets = ox.graph_from_bbox(north=bbox[3], south=bbox[1], east=bbox[2], west=bbox[0], network_type='all')\n"
     ]
    },
    {
     "name": "stdout",
     "output_type": "stream",
     "text": [
      "Calculating possible AED locations for Leuven...\n"
     ]
    },
    {
     "name": "stderr",
     "output_type": "stream",
     "text": [
      "/Users/Jovan/Desktop/MDA-Project/Code/functions.py:32: FutureWarning: The `north`, `south`, `east`, and `west` parameters are deprecated and will be removed in the v2.0.0 release. Use the `bbox` parameter instead. See the OSMnx v2 migration guide: https://github.com/gboeing/osmnx/issues/1123\n",
      "  streets = ox.graph_from_bbox(north=bbox[3], south=bbox[1], east=bbox[2], west=bbox[0], network_type='all')\n"
     ]
    },
    {
     "name": "stdout",
     "output_type": "stream",
     "text": [
      "Calculating possible AED locations for Oostende...\n"
     ]
    },
    {
     "name": "stderr",
     "output_type": "stream",
     "text": [
      "/Users/Jovan/Desktop/MDA-Project/Code/functions.py:32: FutureWarning: The `north`, `south`, `east`, and `west` parameters are deprecated and will be removed in the v2.0.0 release. Use the `bbox` parameter instead. See the OSMnx v2 migration guide: https://github.com/gboeing/osmnx/issues/1123\n",
      "  streets = ox.graph_from_bbox(north=bbox[3], south=bbox[1], east=bbox[2], west=bbox[0], network_type='all')\n"
     ]
    }
   ],
   "source": [
    "os.chdir(data_path + possible_locations_path)\n",
    "\n",
    "for city_name, city_polygon in cities[['CityName', 'geometry']].values:\n",
    "    print(\"Calculating possible AED locations for \" + city_name + \"...\")\n",
    "    \n",
    "    streets = get_streets_within_polygon(city_polygon)\n",
    "    points = sample_points_on_streets(streets, num_points = 3)\n",
    "    \n",
    "    possible_locations = gpd.GeoDataFrame(geometry = points, crs = streets.crs)\n",
    "    possible_locations = possible_locations.sample(frac = SAMPLE_SIZE, random_state = SEED)\n",
    "    possible_locations = remove_close_points(possible_locations, min_distance = MIN_DISTANCE)\n",
    "    \n",
    "    possible_locations.to_csv(f'{city_name}_possible_locations.csv', index=False)"
   ]
  }
 ],
 "metadata": {
  "kernelspec": {
   "display_name": "Python 3 (ipykernel)",
   "language": "python",
   "name": "python3"
  },
  "language_info": {
   "codemirror_mode": {
    "name": "ipython",
    "version": 3
   },
   "file_extension": ".py",
   "mimetype": "text/x-python",
   "name": "python",
   "nbconvert_exporter": "python",
   "pygments_lexer": "ipython3",
   "version": "3.10.14"
  }
 },
 "nbformat": 4,
 "nbformat_minor": 5
}
