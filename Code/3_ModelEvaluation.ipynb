{
 "cells": [
  {
   "cell_type": "markdown",
   "id": "38b444bf-4de4-48ea-8290-e2ce3c880bda",
   "metadata": {},
   "source": [
    "## MODEL TESTING"
   ]
  },
  {
   "cell_type": "markdown",
   "id": "d2b3e341-1da6-4452-8646-dafcf7f2162d",
   "metadata": {},
   "source": [
    "## Libraries, Constants, Functions"
   ]
  },
  {
   "cell_type": "markdown",
   "id": "3cbb4033-7de2-4ed9-b872-758161c931f1",
   "metadata": {},
   "source": [
    "Importing libraries, constants, and functions from separate .py files, to enhance efficiency and promote code reuse across multiple notebooks.\n",
    "\n",
    "To limit the number of calculations, the number of closest AEDs considered is reduced from 10 to 8."
   ]
  },
  {
   "cell_type": "code",
   "execution_count": null,
   "id": "9623e8e2-3ce6-4664-bd96-ead2dfce4a21",
   "metadata": {},
   "outputs": [],
   "source": [
    "from libraries import *\n",
    "from constants import *\n",
    "from functions import *\n",
    "\n",
    "CLOSEST_AEDS = 8"
   ]
  },
  {
   "cell_type": "markdown",
   "id": "588199ee-b8b4-4ba5-9916-4cf33be3d7d6",
   "metadata": {},
   "source": [
    "## Preparing data for calculations"
   ]
  },
  {
   "cell_type": "markdown",
   "id": "584d7f8d-7eb9-4f65-a17b-6b2d33f87847",
   "metadata": {},
   "source": [
    "Loading AED data, interventions data, potential locations for AEDs and indicators for optimal locations for each city and storing them in dictionaries. For interventions, this time the test data is loaded, as the objective now is to evaluate how well the optimal locations (calculated on the training data) cover the new unseen dataset of cardiac arrests."
   ]
  },
  {
   "cell_type": "code",
   "execution_count": null,
   "id": "3ea11ff2-e3d5-45d3-8488-be4de6d838fc",
   "metadata": {},
   "outputs": [],
   "source": [
    "aeds = {}\n",
    "cards = {}\n",
    "possible_locations = {}\n",
    "optimal_indicators = {}\n",
    "\n",
    "for city in cities:\n",
    "    os.chdir(data_path + clean_path)\n",
    "    aeds[city] = pd.read_csv(city + \"_aeds.csv\")\n",
    "    cards[city] = pd.read_csv(city + \"_cards_test.csv\")\n",
    "\n",
    "    os.chdir(data_path + possible_locations_path)\n",
    "    possible_locations[city] = pd.read_csv(city + \"_possible_locations.csv\")\n",
    "\n",
    "    os.chdir(data_path + optimal_indicators_path)\n",
    "    optimal_indicators[city] = pd.read_csv(city + \"_optimal_indicators.csv\")"
   ]
  },
  {
   "cell_type": "markdown",
   "id": "e7752b49-4224-49be-836c-f4a8c1694ec2",
   "metadata": {},
   "source": [
    "Retaining only latitude and longitude locations, as for calculating cost matrices only those are necessary. Now, only optimal locations are kept."
   ]
  },
  {
   "cell_type": "code",
   "execution_count": null,
   "id": "7576fd57-b50a-44fd-aa97-674f2ac74554",
   "metadata": {},
   "outputs": [],
   "source": [
    "optimal_locations = {}\n",
    "\n",
    "for city in cities:\n",
    "    aeds[city] = aeds[city][['latitude', 'longitude']]\n",
    "    possible_locations[city][['latitude', 'longitude']] = possible_locations[city]['geometry'].apply(\n",
    "        lambda x: pd.Series(get_coordinates_from_geometry(x))\n",
    "    )\n",
    "    possible_locations[city] = possible_locations[city][['latitude', 'longitude']]\n",
    "    \n",
    "    combined_locations = pd.concat([aeds[city], possible_locations[city]], ignore_index=True)\n",
    "    flag = optimal_indicators[city][\"SelectionStatus\"]\n",
    "    optimal_locations[city] = combined_locations[flag == True]\n",
    "    \n",
    "    cards[city] = cards[city][['latitude', 'longitude']]"
   ]
  },
  {
   "cell_type": "markdown",
   "id": "82af4b8c-b679-4bd5-8e2b-40d721433e4c",
   "metadata": {},
   "source": [
    "## Calculating cost matrices"
   ]
  },
  {
   "cell_type": "markdown",
   "id": "a2c921e6-7482-485a-9b7c-03bd42368007",
   "metadata": {},
   "source": [
    "Cost matrices are calculated separately for the old AED placements and for the new (optimal) AED placements, in order to compare them"
   ]
  },
  {
   "cell_type": "code",
   "execution_count": null,
   "id": "85ed29ab-7fbf-41bb-b26d-2f0c67e6caa2",
   "metadata": {
    "scrolled": true
   },
   "outputs": [],
   "source": [
    "cost_matrices_old = {}\n",
    "cost_matrices_new = {}\n",
    "\n",
    "for city in cities:\n",
    "    print(\"Current city: \" + city)\n",
    "    \n",
    "    cost_matrices_old[city] = get_cost_matrix(cards, aeds, city, CLOSEST_AEDS)\n",
    "    cost_matrices_new[city] = get_cost_matrix(cards, optimal_locations, city, CLOSEST_AEDS)"
   ]
  },
  {
   "cell_type": "markdown",
   "id": "13a57346-a176-4b88-b798-f2adb60ba05c",
   "metadata": {},
   "source": [
    "## Evaluation of coverage"
   ]
  },
  {
   "cell_type": "markdown",
   "id": "012d23c4-0f5a-4b87-8e42-60bc5d8f12a6",
   "metadata": {},
   "source": [
    "Both old and new (optimal) coverage percentages are calculated, and the results are exported to a CSV file."
   ]
  },
  {
   "cell_type": "code",
   "execution_count": null,
   "id": "bf44e792-38f9-4a5f-87e1-02c54a8e07ad",
   "metadata": {},
   "outputs": [],
   "source": [
    "os.chdir(data_path + app_path)\n",
    "coverage_data = []\n",
    "\n",
    "for city in cities:\n",
    "    old_aeds_cost_matrix = cost_matrices_old[city]\n",
    "    new_aeds_cost_matrix = cost_matrices_new[city]\n",
    "\n",
    "    # Calculate if there's an AED within 150m for old and new placements\n",
    "    old_aed_near_card = old_aeds_cost_matrix.apply(lambda row: (row < COVERAGE_RADIUS).any(), axis=1)\n",
    "    new_aed_near_card = new_aeds_cost_matrix.apply(lambda row: (row < COVERAGE_RADIUS).any(), axis=1)\n",
    "    \n",
    "    coverage_data.append({\n",
    "        'city': city,\n",
    "        'old_coverage': old_aed_near_card.mean() * 100,\n",
    "        'new_coverage': new_aed_near_card.mean() * 100\n",
    "    })\n",
    "\n",
    "pd.DataFrame(coverage_data).to_csv(\"coverage.csv\", index = False)"
   ]
  },
  {
   "cell_type": "markdown",
   "id": "953ea3a1-b652-4c8f-8d26-83e6e8b2ab70",
   "metadata": {},
   "source": [
    "## Creating datasets for dashboard"
   ]
  },
  {
   "cell_type": "markdown",
   "id": "05cab69b-c0e9-4978-95d1-6a59a3efeca7",
   "metadata": {},
   "source": [
    "Exporting all the previous data for each city for the app to utilize. This includes information on each cardiac arrest and its closest AED in the new (optimal) placements. Additionally, information on both old and new AED locations is exported."
   ]
  },
  {
   "cell_type": "code",
   "execution_count": null,
   "id": "951c2c4a-60d3-47c4-ab9e-e65212228298",
   "metadata": {},
   "outputs": [],
   "source": [
    "os.chdir(data_path + clean_path)\n",
    "all_dataframes = []\n",
    "\n",
    "for city in cities:\n",
    "    # Taking column names (which are coordinates), not the full ost matrices\n",
    "    old_aed_columns = cost_matrices_old[city].columns\n",
    "    old_aeds_locations = pd.DataFrame(old_aed_columns, columns=[\"Old AEDs\"])\n",
    "    old_aeds_locations[['lat', 'lon']] = old_aeds_locations['Old AEDs'].apply(make_coordinates_tuple).apply(pd.Series)\n",
    "    old_aeds_locations.drop(columns=['Old AEDs'], inplace=True)\n",
    "    \n",
    "    new_aed_columns = cost_matrices_new[city].columns\n",
    "    new_aeds_locations = pd.DataFrame(new_aed_columns, columns=[\"New AEDs\"])\n",
    "    new_aeds_locations[['lat', 'lon']] = new_aeds_locations['New AEDs'].apply(make_coordinates_tuple).apply(pd.Series)\n",
    "    new_aeds_locations.drop(columns=['New AEDs'], inplace=True)\n",
    "\n",
    "    # Importing cards\n",
    "    cards = pd.read_csv(city + \"_cards_test.csv\")[['latitude', 'longitude']]\n",
    "    cards.rename(columns={'latitude': 'lat'}, inplace=True)\n",
    "    cards.rename(columns={'longitude': 'lon'}, inplace=True)\n",
    "\n",
    "    new_aeds_cost_matrix = cost_matrices_new[city].apply(pd.to_numeric, errors='coerce')\n",
    "    min_indices = np.argmin(new_aeds_cost_matrix.to_numpy(), axis=1)\n",
    "\n",
    "    cards = pd.DataFrame({\n",
    "        'lat': cards['lat'].values,\n",
    "        'lon': cards['lon'].values,\n",
    "        'aed_lat': new_aeds_locations.iloc[min_indices]['lat'].values,\n",
    "        'aed_lon': new_aeds_locations.iloc[min_indices]['lon'].values\n",
    "    })\n",
    "    cards['distance'] = None\n",
    "    for i, which_min_index in enumerate(min_indices):\n",
    "        cards.at[i, 'distance'] = new_aeds_cost_matrix.iat[i, which_min_index]\n",
    "\n",
    "    # Add type and city columns\n",
    "    cards['type'] = 'card'\n",
    "    old_aeds_locations['type'] = 'old_aed'\n",
    "    new_aeds_locations['type'] = 'new_aed'\n",
    "    cards['city'] = city\n",
    "    old_aeds_locations['city'] = city\n",
    "    new_aeds_locations['city'] = city\n",
    "\n",
    "    # Add missing columns to old_aeds_locations and new_aeds_locations\n",
    "    old_aeds_locations['aed_lat'] = np.nan\n",
    "    old_aeds_locations['aed_lon'] = np.nan\n",
    "    old_aeds_locations['distance'] = np.nan\n",
    "    new_aeds_locations['aed_lat'] = np.nan\n",
    "    new_aeds_locations['aed_lon'] = np.nan\n",
    "    new_aeds_locations['distance'] = np.nan\n",
    "\n",
    "    # Reorder columns to match the cards dataframe\n",
    "    old_aeds_locations = old_aeds_locations[['lat', 'lon', 'aed_lat', 'aed_lon', 'distance', 'type', 'city']]\n",
    "    new_aeds_locations = new_aeds_locations[['lat', 'lon', 'aed_lat', 'aed_lon', 'distance', 'type', 'city']]\n",
    "    cards = cards[['lat', 'lon', 'aed_lat', 'aed_lon', 'distance', 'type', 'city']]\n",
    "\n",
    "    # Concatenate dataframes for the current city\n",
    "    all_dataframes.append(pd.concat([cards, old_aeds_locations, new_aeds_locations], ignore_index=True))\n",
    "\n",
    "os.chdir(data_path + app_path)\n",
    "app_data = pd.concat(all_dataframes, ignore_index = True)\n",
    "app_data.to_csv(\"app_data.csv\", index = False)"
   ]
  },
  {
   "cell_type": "markdown",
   "id": "2124894f-05d3-42d2-bc34-cc18996198be",
   "metadata": {},
   "source": [
    "Exporting cards dataframe which contains infromation for the density maps on the dashboard"
   ]
  },
  {
   "cell_type": "code",
   "execution_count": null,
   "id": "6b7f5ec2-87f4-4b91-9982-e08f5b2fb124",
   "metadata": {},
   "outputs": [],
   "source": [
    "cards_df = app_data[app_data['type'] == 'card']\n",
    "\n",
    "longitude = cards_df['lon'].values\n",
    "latitude = cards_df['lat'].values\n",
    "# Combine longitude and latitude into a single array for KDE estimation\n",
    "coordinates = np.vstack([longitude, latitude])\n",
    "\n",
    "# Calculate density using KDE\n",
    "kde = gaussian_kde(coordinates)\n",
    "density = kde(coordinates)\n",
    "cards_df['density'] = density\n",
    "\n",
    "# Now cards_df contains the density values calculated based on longitude and latitude for type \"Cards\"\n",
    "cards_df.to_csv(\"cards_with_density.csv\",index=False)"
   ]
  }
 ],
 "metadata": {
  "kernelspec": {
   "display_name": "Python 3 (ipykernel)",
   "language": "python",
   "name": "python3"
  },
  "language_info": {
   "codemirror_mode": {
    "name": "ipython",
    "version": 3
   },
   "file_extension": ".py",
   "mimetype": "text/x-python",
   "name": "python",
   "nbconvert_exporter": "python",
   "pygments_lexer": "ipython3",
   "version": "3.10.14"
  }
 },
 "nbformat": 4,
 "nbformat_minor": 5
}
