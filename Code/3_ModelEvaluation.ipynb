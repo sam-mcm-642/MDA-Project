{
 "cells": [
  {
   "cell_type": "markdown",
   "id": "38b444bf-4de4-48ea-8290-e2ce3c880bda",
   "metadata": {},
   "source": [
    "## MODEL TESTING"
   ]
  },
  {
   "cell_type": "markdown",
   "id": "d2b3e341-1da6-4452-8646-dafcf7f2162d",
   "metadata": {},
   "source": [
    "## Libraries, Constants, Functions"
   ]
  },
  {
   "cell_type": "code",
   "execution_count": null,
   "id": "9623e8e2-3ce6-4664-bd96-ead2dfce4a21",
   "metadata": {},
   "outputs": [],
   "source": [
    "from libraries import *\n",
    "from constants import *\n",
    "from functions import *\n",
    "\n",
    "gmaps = googlemaps.Client(key = GOOGLE_API_KEY)\n",
    "CLOSEST_AEDS = 8"
   ]
  },
  {
   "cell_type": "markdown",
   "id": "82af4b8c-b679-4bd5-8e2b-40d721433e4c",
   "metadata": {},
   "source": [
    "## Calculating Cost Matrices"
   ]
  },
  {
   "cell_type": "code",
   "execution_count": null,
   "id": "142de1d5-5303-4763-a09d-22ebe283f8a4",
   "metadata": {},
   "outputs": [],
   "source": [
    "# Load aeds, cards and possible_locations and optimal_indicators\n",
    "\n",
    "aeds = {}\n",
    "cards = {}\n",
    "possible_locations = {}\n",
    "optimal_indicators = {}\n",
    "\n",
    "for city in cities:\n",
    "    os.chdir(data_path + clean_path)\n",
    "    aeds[city] = pd.read_csv(city + \"_aeds.csv\")\n",
    "    cards[city] = pd.read_csv(city + \"_cards_test.csv\")\n",
    "\n",
    "    os.chdir(data_path + possible_locations_path)\n",
    "    possible_locations[city] = pd.read_csv(city + \"_possible_locations.csv\")\n",
    "\n",
    "    os.chdir(data_path + optimal_indicators_path)\n",
    "    optimal_indicators[city] = pd.read_csv(city + \"_optimal_indicators.csv\")"
   ]
  },
  {
   "cell_type": "code",
   "execution_count": null,
   "id": "ac71d026-e6b3-41dd-9b1e-674f23c91150",
   "metadata": {
    "scrolled": true
   },
   "outputs": [],
   "source": [
    "# Keep only coordinate columns\n",
    "\n",
    "combined_locations = {}\n",
    "\n",
    "for city in cities:\n",
    "    aeds[city] = aeds[city][['latitude', 'longitude']]\n",
    "    possible_locations[city][['latitude', 'longitude']] = possible_locations[city]['geometry'].apply(\n",
    "        lambda x: pd.Series(get_coordinates_from_geometry(x))\n",
    "    )\n",
    "    possible_locations[city] = possible_locations[city][['latitude', 'longitude']]\n",
    "    \n",
    "    combined_locations[city] = pd.concat([aeds[city], possible_locations[city]], ignore_index=True)\n",
    "    flag = optimal_indicators[city][\"SelectionStatus\"]\n",
    "    optimal_locations = combined_locations[city][flag == True]\n",
    "    combined_locations[city] = pd.concat([aeds[city], optimal_locations], ignore_index=True)\n",
    "    \n",
    "    cards[city] = cards[city][['latitude', 'longitude']]"
   ]
  },
  {
   "cell_type": "code",
   "execution_count": null,
   "id": "69ef1bcd-c245-441e-b1c2-b9e04abf5e12",
   "metadata": {
    "scrolled": true
   },
   "outputs": [],
   "source": [
    "# Calculate cost matrix\n",
    "\n",
    "cost_matrices = {}\n",
    "\n",
    "for city in cities:\n",
    "    print(\"Current city: \" + city)\n",
    "    \n",
    "    # Euclidean distance matrix\n",
    "    distance_matrix = cdist(cards[city], combined_locations[city], metric = 'euclidean')  # Transposed\n",
    "    flag_matrix = np.zeros_like(distance_matrix)\n",
    "    \n",
    "    for row in range(distance_matrix.shape[0]):\n",
    "        row_indices = np.argsort(distance_matrix[row, :])[:CLOSEST_AEDS]\n",
    "        flag_matrix[row, row_indices] = 1\n",
    "    \n",
    "    # Column names\n",
    "    cards_str = cards[city].apply(lambda x: f\"{x['latitude']}, {x['longitude']}\", axis = 1)\n",
    "    flag_matrix = pd.DataFrame(flag_matrix, index = cards_str, columns = combined_locations[city].apply(tuple, axis = 1))\n",
    "    flag_matrix.replace(0, INF_LENGTH, inplace=True)\n",
    "\n",
    "    confirmation = input(f\"This will initialize {len(flag_matrix) * CLOSEST_AEDS} API requests. Are you sure? (yes/no): \")\n",
    "    if confirmation == \"yes\":            \n",
    "        # Replace all marked cells with real calculated distances\n",
    "        cost_matrices[city] = replace_1_with_distances(flag_matrix)\n",
    "    else:\n",
    "        print(\"OK. Will not procced.\\n\")"
   ]
  },
  {
   "cell_type": "markdown",
   "id": "13a57346-a176-4b88-b798-f2adb60ba05c",
   "metadata": {},
   "source": [
    "## Evaluation of coverage"
   ]
  },
  {
   "cell_type": "code",
   "execution_count": null,
   "id": "bf44e792-38f9-4a5f-87e1-02c54a8e07ad",
   "metadata": {},
   "outputs": [],
   "source": [
    "coverage_data = []\n",
    "\n",
    "for city in cities:\n",
    "    cost_matrix = cost_matrices[city]\n",
    "    cost_matrix = cost_matrix.apply(pd.to_numeric, errors='coerce')\n",
    "\n",
    "    # Split the cost matrix by old and new AED placements\n",
    "    mid_index = cost_matrix.shape[1] // 2\n",
    "\n",
    "    old_aeds_cost_matrix = cost_matrix.iloc[:, :mid_index]\n",
    "    new_aeds_cost_matrix = cost_matrix.iloc[:, mid_index:]\n",
    "\n",
    "    # Calculate if there's an AED within 150m for old and new placements\n",
    "    old_aed_near_card = old_aeds_cost_matrix.apply(lambda row: (row < COVERAGE_RADIUS).any(), axis=1)\n",
    "    new_aed_near_card = new_aeds_cost_matrix.apply(lambda row: (row < COVERAGE_RADIUS).any(), axis=1)\n",
    "    \n",
    "    coverage_data.append({\n",
    "        'city': city,\n",
    "        'old_coverage': old_aed_near_card.mean() * 100,\n",
    "        'new_coverage': new_aed_near_card.mean() * 100\n",
    "    })\n",
    "\n",
    "os.chdir(data_path + app_path)\n",
    "pd.DataFrame(coverage_data).to_csv(\"coverage.csv\", index = False)"
   ]
  },
  {
   "cell_type": "markdown",
   "id": "953ea3a1-b652-4c8f-8d26-83e6e8b2ab70",
   "metadata": {},
   "source": [
    "## Creating app_data"
   ]
  },
  {
   "cell_type": "code",
   "execution_count": null,
   "id": "951c2c4a-60d3-47c4-ab9e-e65212228298",
   "metadata": {},
   "outputs": [],
   "source": [
    "os.chdir(data_path + clean_path)\n",
    "all_dataframes = []\n",
    "\n",
    "for city in cities:\n",
    "    cost_matrix = cost_matrices[city]\n",
    "\n",
    "    mid_index = cost_matrix.shape[1] // 2\n",
    "\n",
    "    # Taking column names, not the cost matrices\n",
    "    old_aed_columns = cost_matrix.columns[:mid_index]\n",
    "    old_aeds_locations = pd.DataFrame(old_aed_columns, columns=[\"Old AEDs\"])\n",
    "    old_aeds_locations[['lat', 'lon']] = old_aeds_locations['Old AEDs'].apply(make_coordinates_tuple).apply(pd.Series)\n",
    "    old_aeds_locations.drop(columns=['Old AEDs'], inplace=True)\n",
    "    \n",
    "    new_aed_columns = cost_matrix.columns[mid_index:]\n",
    "    new_aeds_locations = pd.DataFrame(new_aed_columns, columns=[\"New AEDs\"])\n",
    "    new_aeds_locations[['lat', 'lon']] = new_aeds_locations['New AEDs'].apply(make_coordinates_tuple).apply(pd.Series)\n",
    "    new_aeds_locations.drop(columns=['New AEDs'], inplace=True)\n",
    "\n",
    "    # Importing cards\n",
    "    cards = pd.read_csv(city + \"_cards_test.csv\")[['latitude', 'longitude']]\n",
    "    cards.rename(columns={'latitude': 'lat'}, inplace=True)\n",
    "    cards.rename(columns={'longitude': 'lon'}, inplace=True)\n",
    "\n",
    "    new_aeds_cost_matrix = cost_matrix.iloc[:, mid_index:].apply(pd.to_numeric, errors='coerce')\n",
    "    min_indices = np.argmin(new_aeds_cost_matrix.to_numpy(), axis=1)\n",
    "\n",
    "    cards = pd.DataFrame({\n",
    "        'lat': cards['lat'].values,\n",
    "        'lon': cards['lon'].values,\n",
    "        'aed_lat': new_aeds_locations.iloc[min_indices]['lat'].values,\n",
    "        'aed_lon': new_aeds_locations.iloc[min_indices]['lon'].values\n",
    "    })\n",
    "    cards['distance'] = None\n",
    "    for i, which_min_index in enumerate(min_indices):\n",
    "        cards.at[i, 'distance'] = new_aeds_cost_matrix.iat[i, which_min_index]\n",
    "\n",
    "    # Add type and city columns\n",
    "    cards['type'] = 'card'\n",
    "    old_aeds_locations['type'] = 'old_aed'\n",
    "    new_aeds_locations['type'] = 'new_aed'\n",
    "    cards['city'] = city\n",
    "    old_aeds_locations['city'] = city\n",
    "    new_aeds_locations['city'] = city\n",
    "\n",
    "    # Add missing columns to old_aeds_locations and new_aeds_locations\n",
    "    old_aeds_locations['aed_lat'] = np.nan\n",
    "    old_aeds_locations['aed_lon'] = np.nan\n",
    "    old_aeds_locations['distance'] = np.nan\n",
    "    new_aeds_locations['aed_lat'] = np.nan\n",
    "    new_aeds_locations['aed_lon'] = np.nan\n",
    "    new_aeds_locations['distance'] = np.nan\n",
    "\n",
    "    # Reorder columns to match the cards dataframe\n",
    "    old_aeds_locations = old_aeds_locations[['lat', 'lon', 'aed_lat', 'aed_lon', 'distance', 'type', 'city']]\n",
    "    new_aeds_locations = new_aeds_locations[['lat', 'lon', 'aed_lat', 'aed_lon', 'distance', 'type', 'city']]\n",
    "    cards = cards[['lat', 'lon', 'aed_lat', 'aed_lon', 'distance', 'type', 'city']]\n",
    "\n",
    "    # Concatenate dataframes for the current city\n",
    "    all_dataframes.append(pd.concat([cards, old_aeds_locations, new_aeds_locations], ignore_index=True))\n",
    "\n",
    "os.chdir(data_path + app_path)\n",
    "app_data = pd.concat(all_dataframes, ignore_index = True)\n",
    "app_data.to_csv(\"app_data.csv\", index = False)"
   ]
  }
 ],
 "metadata": {
  "kernelspec": {
   "display_name": "Python 3 (ipykernel)",
   "language": "python",
   "name": "python3"
  },
  "language_info": {
   "codemirror_mode": {
    "name": "ipython",
    "version": 3
   },
   "file_extension": ".py",
   "mimetype": "text/x-python",
   "name": "python",
   "nbconvert_exporter": "python",
   "pygments_lexer": "ipython3",
   "version": "3.10.14"
  }
 },
 "nbformat": 4,
 "nbformat_minor": 5
}
