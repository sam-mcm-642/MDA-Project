{
 "cells": [
  {
   "cell_type": "markdown",
   "metadata": {},
   "source": [
    "# MAXIMAL COVERAGE ALGORITHM"
   ]
  },
  {
   "cell_type": "markdown",
   "metadata": {},
   "source": [
    "## Libraries"
   ]
  },
  {
   "cell_type": "code",
   "execution_count": 1,
   "metadata": {},
   "outputs": [],
   "source": [
    "import pandas as pd"
   ]
  },
  {
   "cell_type": "markdown",
   "metadata": {},
   "source": [
    "## Constants"
   ]
  },
  {
   "cell_type": "code",
   "execution_count": 2,
   "metadata": {},
   "outputs": [],
   "source": [
    "input_folder_path = \"/Users/Jovan/Desktop/MDA-Project/Data\"\n",
    "\n",
    "cities = [\"Antwerpen\", \"Brugge\", \"Brussels\", \"Charleroi\", \"Gent\", \"Leuven\", \"Liege\", \"Oostende\"]\n",
    "cities = [\"Oostende\"]\n",
    "\n",
    "COVERAGE_RADIUS = 150"
   ]
  },
  {
   "cell_type": "markdown",
   "metadata": {},
   "source": [
    "## Comparisons"
   ]
  },
  {
   "cell_type": "code",
   "execution_count": 8,
   "metadata": {},
   "outputs": [
    {
     "name": "stdout",
     "output_type": "stream",
     "text": [
      "                     Old_AED_within_150m  New_AED_within_150m\n",
      "51.232792, 2.944167                False                False\n",
      "51.228196, 2.910508                False                 True\n",
      "51.229511, 2.913998                False                 True\n",
      "51.234277, 2.915419                False                False\n",
      "51.234876, 2.916587                False                False\n",
      "...                                  ...                  ...\n",
      "51.231357, 2.945571                False                False\n",
      "51.211095, 2.878669                False                False\n",
      "51.230009, 2.915204                 True                 True\n",
      "51.219038, 2.909445                False                False\n",
      "51.216481, 2.890583                False                False\n",
      "\n",
      "[100 rows x 2 columns]\n",
      "Percentage of cardiac arrests with an AED within 150m (old placements): 17.00%\n",
      "Percentage of cardiac arrests with an AED within 150m (new placements): 32.00%\n"
     ]
    }
   ],
   "source": [
    "df = pd.read_csv(\"/Users/Jovan/Desktop/Oostende_cost_matrix.csv\", index_col=0)\n",
    "\n",
    "num_columns = df.shape[1]\n",
    "mid_index = num_columns // 2\n",
    "old_aed_columns = df.iloc[:, :mid_index]\n",
    "new_aed_columns = df.iloc[:, mid_index:]\n",
    "\n",
    "df['Old_AED_within_150m'] = old_aed_columns.apply(lambda row: (row < 150).any(), axis=1)\n",
    "df['New_AED_within_150m'] = new_aed_columns.apply(lambda row: (row < 150).any(), axis=1)\n",
    "\n",
    "percentage_old_aed = df['Old_AED_within_150m'].mean() * 100\n",
    "percentage_new_aed = df['New_AED_within_150m'].mean() * 100\n",
    "\n",
    "# Print the results\n",
    "print(df[['Old_AED_within_150m', 'New_AED_within_150m']])\n",
    "print(f\"Percentage of cardiac arrests with an AED within 150m (old placements): {percentage_old_aed:.2f}%\")\n",
    "print(f\"Percentage of cardiac arrests with an AED within 150m (new placements): {percentage_new_aed:.2f}%\")"
   ]
  }
 ],
 "metadata": {
  "interpreter": {
   "hash": "221ab5ba4d875600bd6bb0e7eee0cec001efdea31b25afc3ad4fb9d8815d7c77"
  },
  "kernelspec": {
   "display_name": "Python 3 (ipykernel)",
   "language": "python",
   "name": "python3"
  },
  "language_info": {
   "codemirror_mode": {
    "name": "ipython",
    "version": 3
   },
   "file_extension": ".py",
   "mimetype": "text/x-python",
   "name": "python",
   "nbconvert_exporter": "python",
   "pygments_lexer": "ipython3",
   "version": "3.9.19"
  }
 },
 "nbformat": 4,
 "nbformat_minor": 4
}
