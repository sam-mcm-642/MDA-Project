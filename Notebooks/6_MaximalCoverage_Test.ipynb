{
 "cells": [
  {
   "cell_type": "markdown",
   "metadata": {},
   "source": [
    "# MAXIMAL COVERAGE ALGORITHM"
   ]
  },
  {
   "cell_type": "markdown",
   "metadata": {},
   "source": [
    "## Libraries"
   ]
  },
  {
   "cell_type": "code",
   "execution_count": 118,
   "metadata": {},
   "outputs": [],
   "source": [
    "import numpy as np\n",
    "import os\n",
    "import pandas as pd\n",
    "import re"
   ]
  },
  {
   "cell_type": "markdown",
   "metadata": {},
   "source": [
    "## Constants"
   ]
  },
  {
   "cell_type": "code",
   "execution_count": 149,
   "metadata": {},
   "outputs": [],
   "source": [
    "data_path = \"/Users/sammcmanagan/Library/Mobile Documents/com~apple~CloudDocs/Documents/M.Sc Statistics & Data Science/Modern Data Analytics/MDA-Project/Data\"\n",
    "\n",
    "input_path_segmented = \"/2_DataSegmented\"\n",
    "input_path_dist = \"/6_DistanceMatricesTest\"\n",
    "final_data_path = \"/Users/sammcmanagan/Library/Mobile Documents/com~apple~CloudDocs/Documents/M.Sc Statistics & Data Science/Modern Data Analytics/MDA-Project/Data/7_DataForApp\"\n",
    "\n",
    "cities = [\"Antwerpen\", \"Brugge\", \"Brussels\", \"Charleroi\", \"Gent\", \"Leuven\", \"Liege\", \"Oostende\"]\n",
    "\n",
    "\n",
    "COVERAGE_RADIUS = 150"
   ]
  },
  {
   "cell_type": "markdown",
   "metadata": {},
   "source": [
    "## Functions"
   ]
  },
  {
   "cell_type": "code",
   "execution_count": 150,
   "metadata": {},
   "outputs": [],
   "source": [
    "# Function which removes .1 .2 .3 ... after )\n",
    "\n",
    "def extract_coordinates(s):\n",
    "    s = s.split('(')[1].split(')')[0].split(', ')\n",
    "    s = map(float, s)\n",
    "    return tuple(s)"
   ]
  },
  {
   "cell_type": "markdown",
   "metadata": {},
   "source": [
    "## Importing data"
   ]
  },
  {
   "cell_type": "code",
   "execution_count": 160,
   "metadata": {},
   "outputs": [
    {
     "name": "stdout",
     "output_type": "stream",
     "text": [
      "Data for Antwerpen loaded successfully.\n",
      "Data for Brugge loaded successfully.\n",
      "Data for Brussels loaded successfully.\n",
      "Data for Charleroi loaded successfully.\n",
      "Data for Gent loaded successfully.\n",
      "Data for Leuven loaded successfully.\n",
      "Data for Liege loaded successfully.\n",
      "Data for Oostende loaded successfully.\n"
     ]
    }
   ],
   "source": [
    "\n",
    "os.chdir(data_path + input_path_dist)\n",
    "city_data = {}\n",
    "\n",
    "for city in cities:\n",
    "        city_data[city] = pd.read_csv(city + \"_cost_matrix.csv\", index_col=0)\n",
    "        print(f\"Data for {city} loaded successfully.\")"
   ]
  },
  {
   "cell_type": "markdown",
   "metadata": {},
   "source": [
    "## Comparisons"
   ]
  },
  {
   "cell_type": "code",
   "execution_count": 161,
   "metadata": {},
   "outputs": [
    {
     "name": "stdout",
     "output_type": "stream",
     "text": [
      "Results for Antwerpen:\n",
      "Percentage of cardiac arrests with an AED within 150m (old placements): 20.93%\n",
      "Percentage of cardiac arrests with an AED within 150m (new placements): 38.24%\n",
      "\n",
      "Results for Brugge:\n",
      "Percentage of cardiac arrests with an AED within 150m (old placements): 11.11%\n",
      "Percentage of cardiac arrests with an AED within 150m (new placements): 20.00%\n",
      "\n",
      "Results for Brussels:\n",
      "Percentage of cardiac arrests with an AED within 150m (old placements): 32.65%\n",
      "Percentage of cardiac arrests with an AED within 150m (new placements): 54.65%\n",
      "\n",
      "Results for Charleroi:\n",
      "Percentage of cardiac arrests with an AED within 150m (old placements): 16.01%\n",
      "Percentage of cardiac arrests with an AED within 150m (new placements): 21.91%\n",
      "\n",
      "Results for Gent:\n",
      "Percentage of cardiac arrests with an AED within 150m (old placements): 14.83%\n",
      "Percentage of cardiac arrests with an AED within 150m (new placements): 35.33%\n",
      "\n",
      "Results for Leuven:\n",
      "Percentage of cardiac arrests with an AED within 150m (old placements): 16.98%\n",
      "Percentage of cardiac arrests with an AED within 150m (new placements): 26.42%\n",
      "\n",
      "Results for Liege:\n",
      "Percentage of cardiac arrests with an AED within 150m (old placements): 20.59%\n",
      "Percentage of cardiac arrests with an AED within 150m (new placements): 28.82%\n",
      "\n",
      "Results for Oostende:\n",
      "Percentage of cardiac arrests with an AED within 150m (old placements): 18.00%\n",
      "Percentage of cardiac arrests with an AED within 150m (new placements): 32.00%\n",
      "\n"
     ]
    }
   ],
   "source": [
    "for city, df in city_data.items():\n",
    "    df = df.apply(pd.to_numeric, errors='coerce')\n",
    "    \n",
    "    num_columns = df.shape[1]\n",
    "    mid_index = num_columns // 2\n",
    "\n",
    "    old_aed_columns = df.iloc[:, :mid_index]\n",
    "    new_aed_columns = df.iloc[:, mid_index:]\n",
    "\n",
    "    df['Old_AED_within_150m'] = old_aed_columns.apply(lambda row: (row < 150).any(), axis=1)\n",
    "    df['New_AED_within_150m'] = new_aed_columns.apply(lambda row: (row < 150).any(), axis=1)\n",
    "\n",
    "    percentage_old_aed = df['Old_AED_within_150m'].mean() * 100\n",
    "    percentage_new_aed = df['New_AED_within_150m'].mean() * 100\n",
    "\n",
    "    print(f\"Results for {city}:\")\n",
    "    print(f\"Percentage of cardiac arrests with an AED within 150m (old placements): {percentage_old_aed:.2f}%\")\n",
    "    print(f\"Percentage of cardiac arrests with an AED within 150m (new placements): {percentage_new_aed:.2f}%\\n\")\n"
   ]
  },
  {
   "cell_type": "markdown",
   "metadata": {},
   "source": [
    "## Creating old_aeds, new_aeds and nearest aed dataframes"
   ]
  },
  {
   "cell_type": "code",
   "execution_count": 162,
   "metadata": {},
   "outputs": [],
   "source": [
    "###Creating a single df of all the points we need for the app\n",
    "all_dataframes = []\n",
    "\n",
    "\n",
    "for city in cities:\n",
    "    df = city_data[city]\n",
    "\n",
    "    num_columns = df.shape[1]\n",
    "    mid_index = num_columns // 2\n",
    "\n",
    "    # First half of columns are old aeds, second half are new aeds\n",
    "    old_aed_columns = df.columns[:mid_index]\n",
    "    new_aed_columns = df.columns[mid_index:]\n",
    "\n",
    "    old_aeds_df = pd.DataFrame(old_aed_columns, columns=[\"Old AEDs\"])\n",
    "    new_aeds_df = pd.DataFrame(new_aed_columns, columns=[\"New AEDs\"])\n",
    "\n",
    "    old_aeds_df[['lat', 'lon']] = old_aeds_df['Old AEDs'].apply(extract_coordinates).apply(pd.Series)\n",
    "    old_aeds_df.drop(columns=['Old AEDs'], inplace=True)\n",
    "    new_aeds_df[['lat', 'lon']] = new_aeds_df['New AEDs'].apply(extract_coordinates).apply(pd.Series)\n",
    "    new_aeds_df.drop(columns=['New AEDs'], inplace=True)\n",
    "\n",
    "    os.chdir(data_path + input_path_segmented)\n",
    "    cards = pd.read_csv(city + \"_cards_test.csv\")[['latitude', 'longitude']]\n",
    "    cards.rename(columns={'latitude': 'lat'}, inplace=True)\n",
    "    cards.rename(columns={'longitude': 'lon'}, inplace=True)\n",
    "    \n",
    "    df_new = df.iloc[:, mid_index:].apply(pd.to_numeric, errors='coerce')\n",
    "    min_indices = np.argmin(df_new.to_numpy(), axis=1)\n",
    "\n",
    "    cards = pd.DataFrame({\n",
    "        'lat': cards['lat'].values,\n",
    "        'lon': cards['lon'].values,\n",
    "        'aed_lat': new_aeds_df.iloc[min_indices]['lat'].values,\n",
    "        'aed_lon': new_aeds_df.iloc[min_indices]['lon'].values\n",
    "    })\n",
    "    cards['distance'] = None\n",
    "    for i, idx in enumerate(min_indices):\n",
    "        cards.at[i, 'distance'] = df_new.iat[i, idx]\n",
    "\n",
    "    # Add type and city columns\n",
    "    cards['type'] = 'card'\n",
    "    old_aeds_df['type'] = 'old_aed'\n",
    "    new_aeds_df['type'] = 'new_aed'\n",
    "    \n",
    "    cards['city'] = city\n",
    "    old_aeds_df['city'] = city\n",
    "    new_aeds_df['city'] = city\n",
    "    \n",
    "    # Add missing columns to old_aeds_df and new_aeds_df\n",
    "    old_aeds_df['aed_lat'] = np.nan\n",
    "    old_aeds_df['aed_lon'] = np.nan\n",
    "    old_aeds_df['distance'] = np.nan\n",
    "    \n",
    "    new_aeds_df['aed_lat'] = np.nan\n",
    "    new_aeds_df['aed_lon'] = np.nan\n",
    "    new_aeds_df['distance'] = np.nan\n",
    "    \n",
    "    # Reorder columns to match the cards dataframe\n",
    "    old_aeds_df = old_aeds_df[['lat', 'lon', 'aed_lat', 'aed_lon', 'distance', 'type', 'city']]\n",
    "    new_aeds_df = new_aeds_df[['lat', 'lon', 'aed_lat', 'aed_lon', 'distance', 'type', 'city']]\n",
    "    cards = cards[['lat', 'lon', 'aed_lat', 'aed_lon', 'distance', 'type', 'city']]\n",
    "    \n",
    "    # Concatenate dataframes for the current city\n",
    "    city_df = pd.concat([cards, old_aeds_df, new_aeds_df], ignore_index=True)\n",
    "    all_dataframes.append(city_df)\n",
    "\n",
    "# Concatenate all city dataframes into one mega dataframe\n",
    "mega_df = pd.concat(all_dataframes, ignore_index=True)\n",
    "mega_df.to_csv(final_data_path + \"/app_data.csv\", index=False)"
   ]
  }
 ],
 "metadata": {
  "interpreter": {
   "hash": "221ab5ba4d875600bd6bb0e7eee0cec001efdea31b25afc3ad4fb9d8815d7c77"
  },
  "kernelspec": {
   "display_name": "Python 3 (ipykernel)",
   "language": "python",
   "name": "python3"
  },
  "language_info": {
   "codemirror_mode": {
    "name": "ipython",
    "version": 3
   },
   "file_extension": ".py",
   "mimetype": "text/x-python",
   "name": "python",
   "nbconvert_exporter": "python",
   "pygments_lexer": "ipython3",
   "version": "3.9.19"
  }
 },
 "nbformat": 4,
 "nbformat_minor": 4
}
