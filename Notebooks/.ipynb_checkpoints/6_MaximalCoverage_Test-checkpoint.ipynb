{
 "cells": [
  {
   "cell_type": "markdown",
   "metadata": {},
   "source": [
    "# MAXIMAL COVERAGE ALGORITHM"
   ]
  },
  {
   "cell_type": "markdown",
   "metadata": {},
   "source": [
    "## Libraries"
   ]
  },
  {
   "cell_type": "code",
   "execution_count": 156,
   "metadata": {},
   "outputs": [],
   "source": [
    "import numpy as np\n",
    "import os\n",
    "import pandas as pd\n",
    "import re"
   ]
  },
  {
   "cell_type": "markdown",
   "metadata": {},
   "source": [
    "## Constants"
   ]
  },
  {
   "cell_type": "code",
   "execution_count": 90,
   "metadata": {},
   "outputs": [],
   "source": [
    "data_path = \"/Users/Jovan/Desktop/MDA-Project/Data\"\n",
    "\n",
    "input_path_segmented = \"/2_DataSegmented\"\n",
    "input_path_dist = \"/6_DistanceMatricesTest\"\n",
    "temp_path = \"/Users/Jovan/Desktop\"\n",
    "\n",
    "cities = [\"Antwerpen\", \"Brugge\", \"Brussels\", \"Charleroi\", \"Gent\", \"Leuven\", \"Liege\", \"Oostende\"]\n",
    "cities = [\"Oostende\"]\n",
    "\n",
    "COVERAGE_RADIUS = 150"
   ]
  },
  {
   "cell_type": "markdown",
   "metadata": {},
   "source": [
    "## Functions"
   ]
  },
  {
   "cell_type": "code",
   "execution_count": 92,
   "metadata": {},
   "outputs": [],
   "source": [
    "# Function which removes .1 .2 .3 ... after )\n",
    "\n",
    "def extract_coordinates(s):\n",
    "    s = s.split('(')[1].split(')')[0].split(', ')\n",
    "    s = map(float, s)\n",
    "    return tuple(s)"
   ]
  },
  {
   "cell_type": "markdown",
   "metadata": {},
   "source": [
    "## Importing data"
   ]
  },
  {
   "cell_type": "code",
   "execution_count": 80,
   "metadata": {},
   "outputs": [
    {
     "name": "stdout",
     "output_type": "stream",
     "text": [
      "Data for Oostende loaded successfully.\n"
     ]
    }
   ],
   "source": [
    "os.chdir(data_path + input_path_dist)\n",
    "city_data = {}\n",
    "\n",
    "for city in cities:\n",
    "        city_data[city] = pd.read_csv(city + \"_cost_matrix.csv\", index_col=0)\n",
    "        print(f\"Data for {city} loaded successfully.\")"
   ]
  },
  {
   "cell_type": "markdown",
   "metadata": {},
   "source": [
    "## Comparisons"
   ]
  },
  {
   "cell_type": "code",
   "execution_count": 81,
   "metadata": {},
   "outputs": [
    {
     "name": "stdout",
     "output_type": "stream",
     "text": [
      "Results for Oostende:\n",
      "Percentage of cardiac arrests with an AED within 150m (old placements): 18.00%\n",
      "Percentage of cardiac arrests with an AED within 150m (new placements): 32.00%\n",
      "\n"
     ]
    }
   ],
   "source": [
    "for city, df in city_data.items():\n",
    "    df = df.apply(pd.to_numeric, errors='coerce')\n",
    "    \n",
    "    num_columns = df.shape[1]\n",
    "    mid_index = num_columns // 2\n",
    "\n",
    "    old_aed_columns = df.iloc[:, :mid_index]\n",
    "    new_aed_columns = df.iloc[:, mid_index:]\n",
    "\n",
    "    df['Old_AED_within_150m'] = old_aed_columns.apply(lambda row: (row < 150).any(), axis=1)\n",
    "    df['New_AED_within_150m'] = new_aed_columns.apply(lambda row: (row < 150).any(), axis=1)\n",
    "\n",
    "    percentage_old_aed = df['Old_AED_within_150m'].mean() * 100\n",
    "    percentage_new_aed = df['New_AED_within_150m'].mean() * 100\n",
    "\n",
    "    print(f\"Results for {city}:\")\n",
    "    print(f\"Percentage of cardiac arrests with an AED within 150m (old placements): {percentage_old_aed:.2f}%\")\n",
    "    print(f\"Percentage of cardiac arrests with an AED within 150m (new placements): {percentage_new_aed:.2f}%\\n\")\n"
   ]
  },
  {
   "cell_type": "code",
   "execution_count": 24,
   "metadata": {},
   "outputs": [
    {
     "name": "stdout",
     "output_type": "stream",
     "text": [
      "City: Antwerpen Number of unique column labels: 638 722\n",
      "City: Brugge Number of unique column labels: 152 161\n",
      "City: Brussels Number of unique column labels: 1674 2024\n",
      "City: Charleroi Number of unique column labels: 323 365\n",
      "City: Gent Number of unique column labels: 362 389\n",
      "City: Leuven Number of unique column labels: 153 167\n",
      "City: Liege Number of unique column labels: 631 686\n",
      "City: Oostende Number of unique column labels: 62 69\n"
     ]
    }
   ],
   "source": [
    "# # Same AEDs are being picked by the algorithm more than once\n",
    "\n",
    "# for city, df in city_data.items():\n",
    "#     num_columns = df.shape[1]\n",
    "#     mid_index = num_columns // 2\n",
    "#     num_unique_columns = df.iloc[:, mid_index:].columns.nunique()\n",
    "    \n",
    "#     print(f\"City: {city} Number of unique column labels:\", num_unique_columns, mid_index)"
   ]
  },
  {
   "cell_type": "markdown",
   "metadata": {},
   "source": [
    "## Creating old_aeds, new_aeds and nearest aed dataframes"
   ]
  },
  {
   "cell_type": "code",
   "execution_count": 163,
   "metadata": {
    "scrolled": true
   },
   "outputs": [
    {
     "name": "stdout",
     "output_type": "stream",
     "text": [
      "     card_lat  card_long    aed_lat  aed_long distance\n",
      "0   51.232792   2.944167  51.234931  2.941995    287.0\n",
      "1   51.228196   2.910508  51.228294  2.910614     14.0\n",
      "2   51.229511   2.913998  51.230139  2.915366    118.0\n",
      "3   51.234277   2.915419  51.232372  2.915172    276.0\n",
      "4   51.234876   2.916587  51.234169  2.918209    177.0\n",
      "..        ...        ...        ...       ...      ...\n",
      "95  51.231357   2.945571  51.234931  2.941995    491.0\n",
      "96  51.211095   2.878669  51.210841  2.876398    226.0\n",
      "97  51.230009   2.915204  51.230139  2.915366     17.0\n",
      "98  51.219038   2.909445  51.219186  2.907753    222.0\n",
      "99  51.216481   2.890583  51.215484  2.888037    235.0\n",
      "\n",
      "[100 rows x 5 columns]\n"
     ]
    }
   ],
   "source": [
    "for city in cities:\n",
    "    df = city_data[city]\n",
    "\n",
    "    num_columns = df.shape[1]\n",
    "    mid_index = num_columns // 2\n",
    "\n",
    "    # First half of columns are old aeds, second half are new aeds\n",
    "    old_aed_columns = df.columns[:mid_index]\n",
    "    new_aed_columns = df.columns[mid_index:]\n",
    "\n",
    "    old_aeds_df = pd.DataFrame(old_aed_columns, columns=[\"Old AEDs\"])\n",
    "    new_aeds_df = pd.DataFrame(new_aed_columns, columns=[\"New AEDs\"])\n",
    "    # print(old_aeds_df)\n",
    "    # print(new_aeds_df)\n",
    "\n",
    "    old_aeds_df[['lat', 'long']] = old_aeds_df['Old AEDs'].apply(extract_coordinates).apply(pd.Series)\n",
    "    old_aeds_df.drop(columns=['Old AEDs'], inplace=True)\n",
    "    new_aeds_df[['lat', 'long']] = new_aeds_df['New AEDs'].apply(extract_coordinates).apply(pd.Series)\n",
    "    new_aeds_df.drop(columns=['New AEDs'], inplace=True)\n",
    "    \n",
    "    # print(old_aeds_df)\n",
    "    # print(new_aeds_df)\n",
    "    # Export it wherever you want, I'll clean it up later\n",
    "    # os.chdir(temp_path)\n",
    "    # export ...\n",
    "\n",
    "    os.chdir(data_path + input_path_segmented)\n",
    "    cards = pd.read_csv(city + \"_cards_test.csv\")[['latitude', 'longitude']]\n",
    "    cards.rename(columns={'latitude': 'card_lat'}, inplace=True)\n",
    "    cards.rename(columns={'longitude': 'card_long'}, inplace=True)\n",
    "    df_new = df.iloc[:, mid_index:]\n",
    "    min_indices = np.argmin(df_new, axis=1)\n",
    "\n",
    "    nearest_aed = pd.DataFrame({\n",
    "    'card_lat': cards['card_lat'].values,\n",
    "    'card_long': cards['card_long'].values,\n",
    "    'aed_lat': new_aeds_df.iloc[min_indices]['lat'].values,\n",
    "    'aed_long': new_aeds_df.iloc[min_indices]['long'].values\n",
    "    })\n",
    "    nearest_aed['distance'] = None\n",
    "    for i, idx in enumerate(min_indices):\n",
    "        nearest_aed.at[i, 'distance'] = df_new.iat[i, idx]\n",
    "\n",
    "    print(nearest_aed)\n",
    "    # Export it wherever you want, I'll clean it up later\n",
    "    # os.chdir(temp_path)\n",
    "    # export ..."
   ]
  }
 ],
 "metadata": {
  "interpreter": {
   "hash": "221ab5ba4d875600bd6bb0e7eee0cec001efdea31b25afc3ad4fb9d8815d7c77"
  },
  "kernelspec": {
   "display_name": "Python 3 (ipykernel)",
   "language": "python",
   "name": "python3"
  },
  "language_info": {
   "codemirror_mode": {
    "name": "ipython",
    "version": 3
   },
   "file_extension": ".py",
   "mimetype": "text/x-python",
   "name": "python",
   "nbconvert_exporter": "python",
   "pygments_lexer": "ipython3",
   "version": "3.9.19"
  }
 },
 "nbformat": 4,
 "nbformat_minor": 4
}
