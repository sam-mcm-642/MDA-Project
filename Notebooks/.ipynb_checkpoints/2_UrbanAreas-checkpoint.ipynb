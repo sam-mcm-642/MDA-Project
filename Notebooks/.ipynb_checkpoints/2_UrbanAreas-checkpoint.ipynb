{
 "cells": [
  {
   "cell_type": "markdown",
   "metadata": {},
   "source": [
    "# URBAN AREAS"
   ]
  },
  {
   "cell_type": "markdown",
   "metadata": {},
   "source": [
    "## Libraries"
   ]
  },
  {
   "cell_type": "code",
   "execution_count": null,
   "metadata": {},
   "outputs": [],
   "source": [
    "import geopandas as gpd\n",
    "import numpy as np\n",
    "import os\n",
    "import osmnx as ox\n",
    "import pandas as pd\n",
    "from scipy.spatial import KDTree\n",
    "from shapely.geometry import LineString\n",
    "from sklearn.model_selection import train_test_split"
   ]
  },
  {
   "cell_type": "markdown",
   "metadata": {},
   "source": [
    "## Constants"
   ]
  },
  {
   "cell_type": "code",
   "execution_count": null,
   "metadata": {},
   "outputs": [],
   "source": [
    "belgium_polygons_path = \"/Users/Jovan/Desktop/MDA-Project/Data/BelgiumUrbanPolygons/BE_STATBEL_SH_SU_UA_CITY_2019_v60.gpkg\"\n",
    "input_folder_path = \"/Users/Jovan/Desktop/MDA-Project/Data/1_DataClean\"\n",
    "output_folder_path_segmenting = \"/Users/Jovan/Desktop/MDA-Project/Data/2_DataSegmented\"\n",
    "output_folder_path_new = \"/Users/Jovan/Desktop/MDA-Project/Data/3_DataNewAeds\"\n",
    "\n",
    "SEED = 42\n",
    "TEST_SIZE = 0.25\n",
    "SAMPLE_SIZE = 0.015\n",
    "MIN_DISTANCE = 0.0012"
   ]
  },
  {
   "cell_type": "markdown",
   "metadata": {},
   "source": [
    "## Functions"
   ]
  },
  {
   "cell_type": "code",
   "execution_count": null,
   "metadata": {},
   "outputs": [],
   "source": [
    "# Function to obtain all streets in urban polygons using open street map\n",
    "def get_streets_within_polygon(polygon):\n",
    "    bbox = polygon.bounds\n",
    "    # Fetch streets within the bounding box\n",
    "    streets = ox.graph_from_bbox(north=bbox[3], south=bbox[1], east=bbox[2], west=bbox[0], network_type='all')\n",
    "    \n",
    "    # Convert the graph to a GeoDataFrame\n",
    "    streets_gdf = ox.graph_to_gdfs(streets, nodes=False, edges=True)\n",
    "    \n",
    "    # Filter streets in the bounding box to only those within the polygon\n",
    "    streets_within_polygon = streets_gdf[streets_gdf.intersects(polygon)]\n",
    "    \n",
    "    return streets_within_polygon\n",
    "\n",
    "# Function to sample points from streets\n",
    "def sample_points_on_streets(edges, num_points=4):\n",
    "    sampled_points = []\n",
    "    for _, row in edges.iterrows():\n",
    "        line = row.geometry\n",
    "        if isinstance(line, LineString):\n",
    "            length = line.length\n",
    "            distances = np.linspace(0, length, num_points)\n",
    "            points = [line.interpolate(distance) for distance in distances]\n",
    "            sampled_points.extend(points)\n",
    "    return sampled_points\n",
    "\n",
    "def remove_close_points(gdf, min_distance):\n",
    "    # Convert the GeoDataFrame to a numpy array of coordinates\n",
    "    coords = np.array([[point.x, point.y] for point in gdf.geometry])\n",
    "    \n",
    "    # Build a KDTree for fast spatial indexing\n",
    "    tree = KDTree(coords)\n",
    "    \n",
    "    # Find pairs of points within the specified minimum distance\n",
    "    pairs = tree.query_pairs(min_distance)\n",
    "    \n",
    "    # Create a set to track points to keep\n",
    "    to_keep = set(range(len(gdf)))\n",
    "    \n",
    "    for i, j in pairs:\n",
    "        # Keep the first point and remove the second point in each pair\n",
    "        if j in to_keep:\n",
    "            to_keep.remove(j)\n",
    "    \n",
    "    # Filter the GeoDataFrame to keep only the required points\n",
    "    filtered_gdf = gdf.iloc[list(to_keep)]\n",
    "    \n",
    "    return filtered_gdf\n",
    "\n",
    "def filter_points_within_polygon(points, polygon, lat_column='latitude', lon_column='longitude'):\n",
    "    # Create a Shapely Point geometry column from latitude and longitude\n",
    "    points['geometry'] = gpd.points_from_xy(points[lon_column], points[lat_column])\n",
    "    \n",
    "    # Convert the points DataFrame to a GeoDataFrame\n",
    "    gdf_points = gpd.GeoDataFrame(points, geometry='geometry')\n",
    "    \n",
    "    # Filter points within the polygon\n",
    "    filtered_points = gdf_points[gdf_points.geometry.within(polygon)]\n",
    "    \n",
    "    return filtered_points"
   ]
  },
  {
   "cell_type": "markdown",
   "metadata": {},
   "source": [
    "## Importing data"
   ]
  },
  {
   "cell_type": "markdown",
   "metadata": {},
   "source": [
    "Importing the dataset with the polygons for the 15 Belgian cities.\n",
    "Keeping only certain cities"
   ]
  },
  {
   "cell_type": "code",
   "execution_count": null,
   "metadata": {},
   "outputs": [],
   "source": [
    "cities = gpd.read_file(belgium_polygons_path)\n",
    "\n",
    "objectid_list = [1, 2, 3, 4, 5, 6, 8, 11]  \n",
    "cities = cities[cities['OBJECTID'].isin(objectid_list)]\n",
    "\n",
    "city_name_mapping = {\n",
    "    'Bruxelles / Brussel (greater city)': 'Brussels',\n",
    "    'Charleroi (greater city)': 'Charleroi',\n",
    "    'Liège (greater city)': 'Liege'\n",
    "}\n",
    "\n",
    "cities['CityName'] = cities['CityName'].replace(city_name_mapping)\n",
    "\n",
    "# Setting the CRS (Coordinate Reference System) to 4326\n",
    "cities = cities.to_crs(epsg=4326)"
   ]
  },
  {
   "cell_type": "markdown",
   "metadata": {},
   "source": [
    "Importing the clean data (from 1_DataCleaning.ipynb)"
   ]
  },
  {
   "cell_type": "code",
   "execution_count": null,
   "metadata": {},
   "outputs": [],
   "source": [
    "os.chdir(input_folder_path)\n",
    "\n",
    "aeds = gpd.read_file(\"aeds.csv\")\n",
    "cards = gpd.read_file(\"cards.csv\")\n",
    "vehicles = gpd.read_file(\"vehicles.csv\")\n",
    "\n",
    "aeds['latitude'] = pd.to_numeric(aeds['latitude'], errors='coerce')\n",
    "aeds['longitude'] = pd.to_numeric(aeds['longitude'], errors='coerce')\n",
    "\n",
    "cards['latitude'] = pd.to_numeric(cards['latitude'], errors='coerce')\n",
    "cards['longitude'] = pd.to_numeric(cards['longitude'], errors='coerce')\n",
    "\n",
    "vehicles['latitude'] = pd.to_numeric(vehicles['latitude'], errors='coerce')\n",
    "vehicles['longitude'] = pd.to_numeric(vehicles['longitude'], errors='coerce')\n",
    "\n",
    "cards = cards.drop_duplicates(subset=['latitude', 'longitude'], keep='last')"
   ]
  },
  {
   "cell_type": "markdown",
   "metadata": {},
   "source": [
    "## Segmenting aeds, cards and vehicles datasets by city"
   ]
  },
  {
   "cell_type": "code",
   "execution_count": null,
   "metadata": {
    "scrolled": true
   },
   "outputs": [],
   "source": [
    "os.chdir(output_folder_path_segmenting)\n",
    "\n",
    "for city_name, city_polygon in cities[['CityName', 'geometry']].values:\n",
    "    #aeds\n",
    "    city_aeds = filter_points_within_polygon(aeds, city_polygon)\n",
    "    print(f\"Number of AEDs in {city_name}: {len(city_aeds)}\")\n",
    "    city_aeds.to_csv(f'{city_name}_aeds.csv', index=False)\n",
    "    \n",
    "    #cards\n",
    "    city_cards = filter_points_within_polygon(cards, city_polygon)\n",
    "    print(f\"Number of cards in {city_name}: {len(city_cards)}\")\n",
    "    city_cards.to_csv(f'{city_name}_cards.csv', index=False)\n",
    "    \n",
    "    # Split cards into train and test sets\n",
    "    cards_train, cards_test = train_test_split(city_cards, test_size=TEST_SIZE, random_state=SEED)\n",
    "    \n",
    "    cards_train.to_csv(f'{city_name}_cards_train.csv', index=False)\n",
    "    cards_test.to_csv(f'{city_name}_cards_test.csv', index=False)\n",
    "    \n",
    "    #vehicles\n",
    "    city_vehicles = filter_points_within_polygon(vehicles, city_polygon)\n",
    "    print(f\"Number of vehicles in {city_name}: {len(city_vehicles)}\")\n",
    "    city_vehicles.to_csv(f'{city_name}_vehicles.csv', index=False)\n",
    "\n",
    "    print(\"\\n\")"
   ]
  },
  {
   "cell_type": "markdown",
   "metadata": {},
   "source": [
    "## Calculating possible AED locations (new_aeds)"
   ]
  },
  {
   "cell_type": "code",
   "execution_count": null,
   "metadata": {},
   "outputs": [],
   "source": [
    "os.chdir(output_folder_path_new)\n",
    "\n",
    "for city_name, city_polygon in cities[['CityName', 'geometry']].values:\n",
    "    print(\"Calculating possible AEDS for \" + city_name + \"...\")\n",
    "    # Name the polygon object according to the city\n",
    "    exec(f\"{city_name.lower()}_polygon = city_polygon\")\n",
    "    \n",
    "    # Fetch streets within the city polygon and name the object accordingly\n",
    "    streets = get_streets_within_polygon(city_polygon)\n",
    "    exec(f\"{city_name.lower()}_streets = streets\")\n",
    "    \n",
    "    # Sample points on the streets and name the object accordingly\n",
    "    points = sample_points_on_streets(streets, num_points=3)\n",
    "    exec(f\"{city_name.lower()}_points = points\")\n",
    "    \n",
    "    # Convert points to a GeoDataFrame and name the object accordingly\n",
    "    new_aeds = gpd.GeoDataFrame(geometry = points, crs = streets.crs)\n",
    "    exec(f\"{city_name.lower()}_new_aeds = new_aeds\")\n",
    "    \n",
    "    # Randomly sample 1.5% of the coordinates\n",
    "    new_aeds = new_aeds.sample(frac=SAMPLE_SIZE, random_state=SEED)\n",
    "    exec(f\"{city_name.lower()}_new_aeds = new_aeds\")\n",
    "    \n",
    "    # removing points roughly within 50m of each other\n",
    "    new_aeds = remove_close_points(new_aeds, min_distance=MIN_DISTANCE)\n",
    "    exec(f\"{city_name}_new_aeds = new_aeds\")\n",
    "    \n",
    "    # Export new possible aed locations\n",
    "    new_aeds.to_csv(f'{city_name}_new_aeds.csv', index=False)"
   ]
  }
 ],
 "metadata": {
  "interpreter": {
   "hash": "221ab5ba4d875600bd6bb0e7eee0cec001efdea31b25afc3ad4fb9d8815d7c77"
  },
  "kernelspec": {
   "display_name": "Python 3 (ipykernel)",
   "language": "python",
   "name": "python3"
  },
  "language_info": {
   "codemirror_mode": {
    "name": "ipython",
    "version": 3
   },
   "file_extension": ".py",
   "mimetype": "text/x-python",
   "name": "python",
   "nbconvert_exporter": "python",
   "pygments_lexer": "ipython3",
   "version": "3.9.19"
  }
 },
 "nbformat": 4,
 "nbformat_minor": 4
}
