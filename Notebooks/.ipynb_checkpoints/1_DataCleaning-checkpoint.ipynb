{
 "cells": [
  {
   "cell_type": "markdown",
   "id": "98def7d8-f865-4fcf-a3b6-48ba5e6664ac",
   "metadata": {},
   "source": [
    "# DATA CLEANING"
   ]
  },
  {
   "cell_type": "markdown",
   "id": "91e4c4b0-21d9-44c7-9ec2-12f067487a30",
   "metadata": {},
   "source": [
    "This notebook processes the raw data, extracting only the necessary information for further analysis and modeling."
   ]
  },
  {
   "cell_type": "markdown",
   "id": "ec64dba8-fed3-4b1d-a5e0-6a7593062bfb",
   "metadata": {},
   "source": [
    "## Libraries"
   ]
  },
  {
   "cell_type": "code",
   "execution_count": null,
   "id": "f3946c78-ca72-4528-88c5-5f494c949da0",
   "metadata": {},
   "outputs": [],
   "source": [
    "from geopy.geocoders import GoogleV3 #reverse geocoding\n",
    "import googlemaps #geocoding\n",
    "import os #set working directory\n",
    "import pandas as pd\n",
    "import pyarrow #import files\n",
    "import re #text manipulation"
   ]
  },
  {
   "cell_type": "markdown",
   "id": "dc4fa027-ed10-45ed-8f71-75387f63689b",
   "metadata": {},
   "source": [
    "## Constants"
   ]
  },
  {
   "cell_type": "code",
   "execution_count": null,
   "id": "df17082f-4044-4f45-a384-6eb029e0a06b",
   "metadata": {},
   "outputs": [],
   "source": [
    "input_folder_path = \"/Users/Jovan/Desktop/MDA-Project/Data/0_DataOriginal\"\n",
    "output_folder_path = \"/Users/Jovan/Desktop/MDA-Project/Data/1_DataClean\"\n",
    "\n",
    "google_api_key = \"\"\n",
    "gmaps = googlemaps.Client(key = google_api_key)\n",
    "\n",
    "# \"P003 - HARTSTILSTAND - DOOD - OVERLEDEN\",\n",
    "# \"P011 - PIJN OP DE BORST\",\n",
    "# \"P039 - CARDIAAL PROBLEEM (NIET PIJN OP DE BORST)\"\n",
    "cardiac_codes = [\"P003\", \"P011\", \"P039\"]\n",
    "\n",
    "belgium_north = 52\n",
    "belgium_south = 49\n",
    "belgium_west = 2.5\n",
    "belgium_east = 6.4"
   ]
  },
  {
   "cell_type": "markdown",
   "id": "afdedcee-184b-4c48-96a3-b84e6397265d",
   "metadata": {},
   "source": [
    "## Functions"
   ]
  },
  {
   "cell_type": "code",
   "execution_count": null,
   "id": "66e93cc1-7fd1-4d42-82de-e53e30226e52",
   "metadata": {},
   "outputs": [],
   "source": [
    "def get_city(longitude, latitude):\n",
    "    geolocator = GoogleV3(api_key = google_api_key)\n",
    "    \n",
    "    address = str(geolocator.reverse((latitude, longitude), language='en'))\n",
    "    parts = address.split(\", \")\n",
    "    \n",
    "    city = re.sub(r'[0-9]', '', parts[-2])\n",
    "    city = city.strip()\n",
    "    \n",
    "    return city\n",
    "\n",
    "def map_province_to_region(province):\n",
    "    if province in [\"Antwerp\", \"East Flanders\", \"Flemish Brabant\", \"Limburg\", \"West Flanders\"]:\n",
    "        return \"Flanders\"\n",
    "    elif province in [\"Hainaut\", \"Liege\", \"Luxembourg\", \"Namur\", \"Walloon Brabant\"]:\n",
    "        return \"Wallonia\"\n",
    "    else:\n",
    "        return \"Brussels\"\n",
    "\n",
    "def insert_decimal(number, k):\n",
    "    if number is None:\n",
    "        return None\n",
    "    else:\n",
    "        num_str = str(number).replace('.', '')\n",
    "        num_str = num_str[:k] + '.' + num_str[k:]\n",
    "        return float(num_str)"
   ]
  },
  {
   "cell_type": "markdown",
   "id": "0df35bc3-b26f-444e-9a46-ec347f966426",
   "metadata": {},
   "source": [
    "## Importing data"
   ]
  },
  {
   "cell_type": "code",
   "execution_count": null,
   "id": "3f1a90b5-4069-4358-8281-9176e9c42c70",
   "metadata": {},
   "outputs": [],
   "source": [
    "os.chdir(input_folder_path)\n",
    "\n",
    "for filename in os.listdir():\n",
    "    if filename.endswith(\".parquet.gzip\"):\n",
    "        df_name = filename.split('.')[0]\n",
    "        globals()[df_name] = pd.read_parquet(filename)"
   ]
  },
  {
   "cell_type": "markdown",
   "id": "d96fee16-b517-4abb-a31b-eafffd231ccf",
   "metadata": {},
   "source": [
    "## Cleaning"
   ]
  },
  {
   "cell_type": "markdown",
   "id": "4847eac3-3dfa-404e-9a4d-f5b8e7c4021e",
   "metadata": {},
   "source": [
    "### Medical transport"
   ]
  },
  {
   "cell_type": "code",
   "execution_count": null,
   "id": "5af39824-770a-4b58-b731-fd07608c7fd7",
   "metadata": {},
   "outputs": [],
   "source": [
    "vehicles_data = {\n",
    "    'type': pd.Categorical([], categories=[\"ambulance\", \"pit\", \"mug\"]),\n",
    "    'latitude': [],\n",
    "    'longitude': [],\n",
    "    'province': pd.Categorical([], categories=[\"Antwerp\", \"Limburg\", \"East Flanders\", \"West Flanders\",\n",
    "                                                \"Flemish Brabant\", \"Walloon Brabant\", \"Hainaut\",\n",
    "                                                \"Namur\", \"Liege\", \"Luxembourg\", \"Brussels\"]),\n",
    "    'region': pd.Categorical([], categories=[\"Flanders\", \"Wallonia\", \"Brussels\"])\n",
    "}\n",
    "\n",
    "vehicles = pd.DataFrame(vehicles_data)"
   ]
  },
  {
   "cell_type": "code",
   "execution_count": null,
   "id": "6e0a2e24-e148-433e-b698-e248e54b1563",
   "metadata": {},
   "outputs": [],
   "source": [
    "# ambulance\n",
    "\n",
    "province_mapping = {\n",
    "    \"Antwerpen\": \"Antwerp\",\n",
    "    \"Waals-Brabant\": \"Walloon Brabant\",\n",
    "    \"Luik\": \"Liege\",\n",
    "    \"Henegouwen\": \"Hainaut\",\n",
    "    \"Limburg\": \"Limburg\",\n",
    "    \"Namen\": \"Namur\",\n",
    "    \"Oost-Vlaanderen\": \"East Flanders\",\n",
    "    \"Vlaams-Brabant\": \"Flemish Brabant\",\n",
    "    \"West-Vlaanderen\": \"West Flanders\",\n",
    "    \"Luxemburg\": \"Luxembourg\"\n",
    "}\n",
    "\n",
    "region_mapping = {\n",
    "    \"Vlaams Gewest\": \"Flanders\",\n",
    "    \"Brussels Hoofdstedelijk Gewest\": \"Brussels\",\n",
    "    \"Waals Gewest\": \"Wallonia\"\n",
    "}\n",
    "\n",
    "ambulance_locations['province'] = ambulance_locations['province'].map(province_mapping)\n",
    "ambulance_locations['province'] = ambulance_locations['province'].fillna(\"Brussels\")\n",
    "ambulance_locations['region'] = ambulance_locations['region'].map(region_mapping)\n",
    "\n",
    "ambulance_locations['type'] = \"ambulance\"\n",
    "\n",
    "vehicles = pd.concat([vehicles, ambulance_locations[['type', 'latitude', 'longitude', 'province', 'region']]], ignore_index=True)"
   ]
  },
  {
   "cell_type": "code",
   "execution_count": null,
   "id": "78b3ffe7-8af0-42a4-ade1-3ef955786534",
   "metadata": {},
   "outputs": [],
   "source": [
    "# pit\n",
    "\n",
    "province_mapping = {\n",
    "    \"Antwerpen/Anvers\": \"Antwerp\",\n",
    "    \"Oost-Vlaanderen/Flandre orientale\": \"East Flanders\",\n",
    "    \"Vlaams Brabant/Brabant flamand\": \"Flemish Brabant\",\n",
    "    \"West-Vlaanderen/Flandre occidentale\": \"West Flanders\",\n",
    "    \"Limburg/Limbourg\": \"Limburg\",\n",
    "    \"Henegouwen/Hainaut\": \"Hainaut\",\n",
    "    \"Namen/Namur\": \"Namur\",\n",
    "    \"Luik/Liège\": \"Liege\",\n",
    "    \"Luxemburg/Luxembourg\": \"Luxembourg\",\n",
    "    \"Brussels Hoofdstedelijk Gewest\\nRégion de Bruxelles-Capitale\": \"Brussels\"\n",
    "}\n",
    "\n",
    "region_mapping = {\n",
    "    \"Vlaanderen/Flandre\": \"Flanders\",\n",
    "    \"Wallonië/Wallonie\": \"Wallonia\"\n",
    "}\n",
    "\n",
    "pit_locations['province'] = pit_locations['province'].map(province_mapping)\n",
    "pit_locations['province'].fillna(\"Brussels\")\n",
    "pit_locations['region'] = pit_locations['region'].map(region_mapping)\n",
    "pit_locations['region'].fillna(\"Brussels\")\n",
    "\n",
    "pit_locations['type'] = \"pit\"\n",
    "\n",
    "pit_locations['campus'] = pit_locations['campus'].str.replace(r'^Ziekenhuis/Hôpital: \\d{3} - ', '', regex=True)\n",
    "geocoded = pit_locations['campus'].apply(lambda x: gmaps.geocode(x))\n",
    "pit_locations['latitude'] = geocoded.apply(lambda x: x[0]['geometry']['location']['lat'] if x else None)\n",
    "pit_locations['longitude'] = geocoded.apply(lambda x: x[0]['geometry']['location']['lng'] if x else None)\n",
    "\n",
    "vehicles = pd.concat([vehicles, pit_locations[['type', 'latitude', 'longitude', 'province', 'region']]], ignore_index=True)"
   ]
  },
  {
   "cell_type": "code",
   "execution_count": null,
   "id": "fb7bb7b6-f2ae-44fc-a540-10aa25b2804c",
   "metadata": {},
   "outputs": [],
   "source": [
    "# mug\n",
    "\n",
    "province_mapping = {\n",
    "    \"Antwerpen\": \"Antwerp\",\n",
    "    \"Oost-Vlaanderen\": \"East Flanders\",\n",
    "    \"West-Vlaanderen\": \"West Flanders\",\n",
    "    \"Limburg\": \"Limburg\",\n",
    "    \"Vlaams-Brabant\": \"Flemish Brabant\",\n",
    "    \"Brussels Hoofdstedelijk Gewest\": \"Brussels\",\n",
    "    \"Waals-Brabant\": \"Walloon Brabant\",\n",
    "    \"Henegouwen\": \"Hainaut\",\n",
    "    \"Namen\": \"Namur\",\n",
    "    \"Luik\": \"Liege\",\n",
    "    \"Lüttich\": \"Liege\",\n",
    "    \"Luxemburg\": \"Luxembourg\"\n",
    "}\n",
    "\n",
    "region_mapping = {\n",
    "    \"V\": \"Flanders\",\n",
    "    \"B\": \"Brussels\",\n",
    "    \"W\": \"Wallonia\"\n",
    "}\n",
    "\n",
    "mug_locations['province'] = mug_locations['province'].map(province_mapping)\n",
    "mug_locations['province'].fillna(\"Brussels\")\n",
    "mug_locations['region'] = mug_locations['region'].map(region_mapping)\n",
    "\n",
    "mug_locations['type'] = \"mug\"\n",
    "\n",
    "addresses = (\n",
    "    mug_locations[['name_hospital', 'address_campus', 'postal_code', 'municipality', 'province']]\n",
    "    .fillna('')\n",
    "    .astype(str)\n",
    "    .apply(lambda x: ', '.join(x), axis=1)\n",
    ")\n",
    "geocoded = addresses.apply(lambda x: gmaps.geocode(x))\n",
    "mug_locations['latitude'] = geocoded.apply(lambda x: x[0]['geometry']['location']['lat'] if x else None)\n",
    "mug_locations['longitude'] = geocoded.apply(lambda x: x[0]['geometry']['location']['lng'] if x else None)\n",
    "\n",
    "vehicles = pd.concat([vehicles, mug_locations[['type', 'latitude', 'longitude', 'province', 'region']]], ignore_index=True)"
   ]
  },
  {
   "cell_type": "code",
   "execution_count": null,
   "id": "9cf0d5a6-eeb1-4111-9391-a3ef3ef6c819",
   "metadata": {},
   "outputs": [],
   "source": [
    "# other\n",
    "\n",
    "vehicles.at[282, 'latitude'] = 50.872546\n",
    "vehicles.at[282, 'longitude'] = 4.699730\n",
    "\n",
    "vehicles['type'] = pd.Categorical(vehicles['type'])\n",
    "vehicles['province'] = pd.Categorical(vehicles['province'])\n",
    "vehicles['region'] = pd.Categorical(vehicles['region'])\n",
    "\n",
    "vehicles['city'] = vehicles.apply(lambda x: get_city(x['longitude'], x['latitude']), axis=1)"
   ]
  },
  {
   "cell_type": "code",
   "execution_count": null,
   "id": "9ea56685-7bce-4462-8c61-7e74a1b7a9ae",
   "metadata": {},
   "outputs": [],
   "source": [
    "vehicles = vehicles[['type', 'latitude', 'longitude', 'city', 'province', 'region']]"
   ]
  },
  {
   "cell_type": "markdown",
   "id": "d6305169-e182-4d7e-89bd-3029530414ca",
   "metadata": {},
   "source": [
    "### AED locations"
   ]
  },
  {
   "cell_type": "code",
   "execution_count": null,
   "id": "69662645-58a2-4c69-9504-cf12e7873db1",
   "metadata": {},
   "outputs": [],
   "source": [
    "# type\n",
    "\n",
    "aed_locations['type'] = aed_locations['type'].str.lower()\n",
    "aed_locations['type'] = aed_locations['type'].fillna(\"unknown\")\n",
    "aed_locations['type'] = aed_locations['type'].apply(lambda x: \n",
    "    'fix' if 'fixe' in x or 'vast' in x else (\n",
    "        'mobile' if 'mobile' in x or 'm5066a' in x else 'unknown'\n",
    "    )\n",
    ")\n",
    "aed_locations['type'] = pd.Categorical(aed_locations['type'], categories=[\"fix\", \"mobile\", \"unknown\"])"
   ]
  },
  {
   "cell_type": "code",
   "execution_count": null,
   "id": "16d43bec-dc7f-45f4-bc17-31f5395e783b",
   "metadata": {},
   "outputs": [],
   "source": [
    "# public\n",
    "\n",
    "aed_locations['public'] = aed_locations['public'].fillna(\"0\")\n",
    "aed_locations['public'] = aed_locations['public'].apply(lambda x: \n",
    "    1 if x.lower().startswith(('o', 'j', 'y')) else 0\n",
    ")"
   ]
  },
  {
   "cell_type": "code",
   "execution_count": null,
   "id": "d1339f29-7bac-442e-b155-fae0549f8903",
   "metadata": {},
   "outputs": [],
   "source": [
    "# geocoding\n",
    "\n",
    "addresses = aed_locations['address'] + \", \" + aed_locations['number'] + \", \" + \\\n",
    "                 aed_locations['postal_code'] + \", \" + aed_locations['municipality'] + \", \" + \\\n",
    "                 aed_locations['province']\n",
    "\n",
    "num = len(addresses)\n",
    "confirmation = input(f\"This will initialize {num} API requests. Are you sure? (yes/no): \")\n",
    "if confirmation == \"yes\":\n",
    "    print(\"OK. Geocoding...\")\n",
    "    geocoded = addresses.apply(lambda x: gmaps.geocode(x))\n",
    "    \n",
    "    latitude = geocoded.apply(lambda x: x[0]['geometry']['location']['lat'] if x else None)\n",
    "    longitude = geocoded.apply(lambda x: x[0]['geometry']['location']['lng'] if x else None)\n",
    "    coordinates = pd.DataFrame({'latitude': latitude, 'longitude': longitude})\n",
    "\n",
    "    aed_locations = pd.concat([aed_locations, coordinates], axis=1)\n",
    "else:\n",
    "    print(\"OK. Will not procced.\")"
   ]
  },
  {
   "cell_type": "code",
   "execution_count": null,
   "id": "ebff1407-8f53-42ff-b58b-eb579ec206fa",
   "metadata": {},
   "outputs": [],
   "source": [
    "# other\n",
    "\n",
    "province_mapping = {\n",
    "    \"Hainaut\": \"Hainaut\",\n",
    "    \"Liège\": \"Liege\",\n",
    "    \"Bruxelles-Brussel\": \"Brussels\",\n",
    "    \"Antwerpen\": \"Antwerp\",\n",
    "    \"Vlaams-Brabant\": \"Flemish Brabant\",\n",
    "    \"Luxembourg\": \"Luxembourg\",\n",
    "    \"Limburg\": \"Limburg\",\n",
    "    \"West-Vlaanderen\": \"West Flanders\",\n",
    "    \"Oost-Vlaanderen\": \"East Flanders\",\n",
    "    \"Brabant Wallon\": \"Walloon Brabant\",\n",
    "    \"Namur\": \"Namur\"\n",
    "}\n",
    "\n",
    "aed_locations['province'] = aed_locations['province'].map(province_mapping)\n",
    "aed_locations['province'] = pd.Categorical(aed_locations['province'])\n",
    "\n",
    "aed_locations['region'] = aed_locations['province'].apply(map_province_to_region)\n",
    "aed_locations['region'] = pd.Categorical(aed_locations['region'])\n",
    "\n",
    "aed_locations.rename(columns={'municipality': 'city'}, inplace=True)"
   ]
  },
  {
   "cell_type": "code",
   "execution_count": null,
   "id": "ea0561e2-deed-49c7-857f-ff229d038575",
   "metadata": {},
   "outputs": [],
   "source": [
    "aeds = aed_locations[['type', 'public', 'latitude', 'longitude', 'city', 'province', 'region']]"
   ]
  },
  {
   "cell_type": "markdown",
   "id": "7e3cb8bd-88da-4163-81ec-f9e605b4ea2f",
   "metadata": {},
   "source": [
    "### Interventions"
   ]
  },
  {
   "cell_type": "code",
   "execution_count": null,
   "id": "f11331ca-7f13-45b5-9c16-5f4da36d9d3e",
   "metadata": {},
   "outputs": [],
   "source": [
    "interventions = pd.concat([interventions1, interventions2, interventions3], ignore_index=True)\n",
    "del interventions1, interventions2, interventions3"
   ]
  },
  {
   "cell_type": "code",
   "execution_count": null,
   "id": "5ec946a6-ca26-4e91-8c40-fade171b02ba",
   "metadata": {},
   "outputs": [],
   "source": [
    "# Filtering only observations on cardiac events\n",
    "cardiac_codes_string = '|'.join(cardiac_codes)\n",
    "\n",
    "interventions = interventions[\n",
    "    interventions['EventType Firstcall'].str.contains(cardiac_codes_string) |\n",
    "    interventions['EventType Trip'].str.contains(cardiac_codes_string)\n",
    "]\n",
    "\n",
    "cad9['EventType Trip'] = cad9['EventType Trip'].fillna(\"unknown\")\n",
    "cad9 = cad9[cad9['EventType Trip'].str.contains(cardiac_codes_string)]\n",
    "\n",
    "interventions_bxl = interventions_bxl[\n",
    "    interventions_bxl['eventtype_firstcall'].str.contains(cardiac_codes_string) |\n",
    "    interventions_bxl['eventtype_trip'].str.contains(cardiac_codes_string)\n",
    "]\n",
    "\n",
    "interventions_bxl2['EventType and EventLevel'] = interventions_bxl2['EventType and EventLevel'].fillna(\"unknown\")\n",
    "interventions_bxl2 = interventions_bxl2[\n",
    "    interventions_bxl2['EventType and EventLevel'].str.contains(cardiac_codes_string)\n",
    "]"
   ]
  },
  {
   "cell_type": "code",
   "execution_count": null,
   "id": "3754d18b-87f4-4dce-9511-8692d94d2092",
   "metadata": {},
   "outputs": [],
   "source": [
    "# Selecting only columns are actually needed\n",
    "\n",
    "selected_columns = [\"Mission ID\", \"Latitude intervention\", \"Longitude intervention\", \n",
    "                    \"CityName intervention\", \"EventType Trip\", \"Vector type\"]\n",
    "interventions = interventions[selected_columns]\n",
    "\n",
    "cad9.rename(columns={'Vector Type': 'Vector type'}, inplace=True)\n",
    "\n",
    "cad9 = cad9[selected_columns]\n",
    "\n",
    "selected_columns = [\"mission_id\", \"latitude_intervention\", \"longitude_intervention\",\n",
    "                    \"cityname_intervention\", \"eventtype_trip\", \"vector_type\"]\n",
    "interventions_bxl = interventions_bxl[selected_columns]\n",
    "\n",
    "selected_columns = [\"Mission ID\", \"Latitude intervention\", \"Longitude intervention\",\n",
    "                    \"Cityname Intervention\", \"EventType and EventLevel\", \"Vector type NL\"]\n",
    "interventions_bxl2 = interventions_bxl2[selected_columns]"
   ]
  },
  {
   "cell_type": "code",
   "execution_count": null,
   "id": "e32e124a-9879-4f6d-a558-7b895e088cfd",
   "metadata": {},
   "outputs": [],
   "source": [
    "# Naming them consistently, so we can merge them into one dataset\n",
    "\n",
    "colnames = [\"id\", \"latitude\", \"longitude\", \"city\", \"event\", \"vehicle\"]\n",
    "\n",
    "interventions.columns = colnames\n",
    "cad9.columns = colnames\n",
    "interventions_bxl.columns = colnames\n",
    "interventions_bxl2.columns = colnames\n",
    "\n",
    "cards = pd.concat([interventions, cad9, interventions_bxl, interventions_bxl2], ignore_index=True)\n",
    "\n",
    "del interventions, cad9, interventions_bxl, interventions_bxl2, colnames, selected_columns"
   ]
  },
  {
   "cell_type": "code",
   "execution_count": null,
   "id": "bea374b7-7fa1-4ca6-83d8-ab0f8c21d2cf",
   "metadata": {},
   "outputs": [],
   "source": [
    "# Vehicle\n",
    "\n",
    "cards['vehicle'] = cards['vehicle'].astype(str).apply(lambda x: \n",
    "    'ambulance' if re.search(r'AMB|Ambulance|Ambulance Event|Ambulance Exceptional|Brandziekenwagen|Decontanimatieziekenwagen', x) \n",
    "    else ('pit' if re.search(r'PIT', x) \n",
    "    else ('mug' if re.search(r'MUG|MUG Event', x) \n",
    "    else None))\n",
    ")\n",
    "cards['vehicle'] = pd.Categorical(cards['vehicle'], categories=[\"ambulance\", \"pit\", \"mug\"], ordered=True)"
   ]
  },
  {
   "cell_type": "code",
   "execution_count": null,
   "id": "f112788f-d5d4-4ebe-adf8-8c8a1f175861",
   "metadata": {},
   "outputs": [],
   "source": [
    "# Event\n",
    "\n",
    "cards['event'] = cards['event'].astype(str).apply(lambda x: \n",
    "    3 if re.search(cardiac_codes[0], str(x)) \n",
    "    else (11 if re.search(cardiac_codes[1], str(x)) \n",
    "    else (39 if re.search(cardiac_codes[2], str(x)) \n",
    "    else None))\n",
    ")\n",
    "cards['event'] = pd.Categorical(cards['event'], categories=[3, 11, 39], ordered=True)"
   ]
  },
  {
   "cell_type": "code",
   "execution_count": null,
   "id": "5ab7f68f-bfe1-42a0-81ad-2e4090cc438a",
   "metadata": {},
   "outputs": [],
   "source": [
    "# Latitude, longitude\n",
    "\n",
    "# 2 - Correct ones\n",
    "cards2 = cards[\n",
    "    (cards['latitude'] >= belgium_south) & (cards['latitude'] <= belgium_north) &\n",
    "    (cards['longitude'] >= belgium_west) & (cards['longitude'] <= belgium_east)\n",
    "]\n",
    "\n",
    "# 3 - Ones that can be fixed (no NAs)\n",
    "cards3 = cards[\n",
    "    (cards['latitude'] < belgium_south) | (cards['latitude'] > belgium_north) |\n",
    "    (cards['longitude'] < belgium_west) | (cards['longitude'] > belgium_east)\n",
    "]\n",
    "cards3 = cards3[~cards3['latitude'].isna() & ~cards3['longitude'].isna()]\n",
    "\n",
    "# Fixing the wrong ones\n",
    "cards3['latitude'] = cards3['latitude'].apply(lambda x: x / 10 if 100 <= x < 1000 else x)\n",
    "cards3['latitude'] = cards3['latitude'].apply(lambda x: insert_decimal(x, 2) if x >= 1000 else x)\n",
    "\n",
    "cards3['longitude'] = cards3['longitude'].apply(lambda x: x / 10 if 10 <= x < 100 else (x / 100 if 100 <= x < 1000 else x))\n",
    "cards3['longitude'] = cards3['longitude'].apply(lambda x: insert_decimal(x, 1) if x >= 1000 else x)\n",
    "\n",
    "# Concatenate corrected and correctly located ones\n",
    "cards = pd.concat([cards2, cards3])\n",
    "\n",
    "# Filter outlying values\n",
    "cards = cards[\n",
    "    (cards['latitude'] >= belgium_south) & (cards['latitude'] <= belgium_north) &\n",
    "    (cards['longitude'] >= belgium_west) & (cards['longitude'] <= belgium_east)\n",
    "]"
   ]
  },
  {
   "cell_type": "markdown",
   "id": "eb320776-18ad-425e-ad4f-1dcacab513bb",
   "metadata": {},
   "source": [
    "## Exporting"
   ]
  },
  {
   "cell_type": "code",
   "execution_count": null,
   "id": "6f26d7a2-92bc-4af9-afde-97993ec90bd7",
   "metadata": {},
   "outputs": [],
   "source": [
    "os.chdir(output_folder_path)\n",
    "\n",
    "vehicles.to_csv(\"vehicles.csv\", index=False)\n",
    "aeds.to_csv(\"aeds.csv\", index=False)\n",
    "cards.to_csv(\"cards.csv\", index=False)"
   ]
  }
 ],
 "metadata": {
  "kernelspec": {
   "display_name": "Python 3 (ipykernel)",
   "language": "python",
   "name": "python3"
  },
  "language_info": {
   "codemirror_mode": {
    "name": "ipython",
    "version": 3
   },
   "file_extension": ".py",
   "mimetype": "text/x-python",
   "name": "python",
   "nbconvert_exporter": "python",
   "pygments_lexer": "ipython3",
   "version": "3.9.19"
  }
 },
 "nbformat": 4,
 "nbformat_minor": 5
}
