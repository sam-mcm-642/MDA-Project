{
 "cells": [
  {
   "cell_type": "markdown",
   "metadata": {},
   "source": [
    "# MAXIMAL COVERAGE ALGORITHM"
   ]
  },
  {
   "cell_type": "markdown",
   "metadata": {},
   "source": [
    "## Libraries"
   ]
  },
  {
   "cell_type": "code",
   "execution_count": 1,
   "metadata": {},
   "outputs": [],
   "source": [
    "import numpy as np\n",
    "import os\n",
    "import pandas as pd\n",
    "import pulp\n",
    "from spopt.locate import MCLP"
   ]
  },
  {
   "cell_type": "markdown",
   "metadata": {},
   "source": [
    "## Constants"
   ]
  },
  {
   "cell_type": "code",
   "execution_count": 2,
   "metadata": {},
   "outputs": [],
   "source": [
    "input_folder_path = \"/Users/Jovan/Desktop/MDA-Project/Data\"\n",
    "output_folder_path = \"/Users/Jovan/Desktop/MDA-Project/Data/5_DataOptimalAeds\"\n",
    "\n",
    "cities = [\"Antwerpen\", \"Brugge\", \"Brussels\", \"Charleroi\", \"Gent\", \"Leuven\", \"Liege\", \"Oostende\"]\n",
    "cities = [\"Oostende\"]\n",
    "\n",
    "COVERAGE_RADIUS = 150"
   ]
  },
  {
   "cell_type": "markdown",
   "metadata": {},
   "source": [
    "## Importing"
   ]
  },
  {
   "cell_type": "code",
   "execution_count": 3,
   "metadata": {},
   "outputs": [],
   "source": [
    "os.chdir(input_folder_path)\n",
    "\n",
    "cost_matrices = {}\n",
    "predefined_lists = {}\n",
    "weights = {}\n",
    "aed_count = {}\n",
    "\n",
    "for city in cities:\n",
    "    cost_matrix_df = pd.read_csv(\"./4_DistanceMatrices/\" + city + \"_cost_matrix.csv\", index_col=0)\n",
    "    predefined_list_df = pd.read_csv(\"./4_DistanceMatrices/\" + city + \"_mandatory_array.csv\")\n",
    "    aed_df = pd.read_csv(\"./2_DataSegmented/\" + city + \"_aeds.csv\")\n",
    "    \n",
    "    # Convert the DataFrames to NumPy arrays\n",
    "    cost_matrix_np = cost_matrix_df.to_numpy()\n",
    "    predefined_list_np = predefined_list_df.to_numpy().flatten()\n",
    "    weights_np = np.ones(cost_matrix_np.shape[0])\n",
    "    \n",
    "    # Store the NumPy arrays in dictionaries with city names as keys\n",
    "    cost_matrices[city] = cost_matrix_np\n",
    "    predefined_lists[city] = predefined_list_np\n",
    "    weights[city] = weights_np\n",
    "    aed_count[city] = len(aed_df)"
   ]
  },
  {
   "cell_type": "markdown",
   "metadata": {},
   "source": [
    "## Algorithm"
   ]
  },
  {
   "cell_type": "code",
   "execution_count": 4,
   "metadata": {},
   "outputs": [
    {
     "name": "stdout",
     "output_type": "stream",
     "text": [
      "Percentage of cards covered in Oostende: 46.801346801346796\n",
      "\n",
      "\n"
     ]
    }
   ],
   "source": [
    "os.chdir(output_folder_path)\n",
    "\n",
    "for city in cities:\n",
    "    mclp = MCLP.from_cost_matrix(cost_matrix = cost_matrices[city],\n",
    "                                 predefined_facilities_arr = predefined_lists[city],\n",
    "                                 weights = weights[city],\n",
    "                                 p_facilities = aed_count[city],\n",
    "                                 service_radius = COVERAGE_RADIUS)\n",
    "\n",
    "    mclp = mclp.solve(pulp.PULP_CBC_CMD(msg=False))\n",
    "\n",
    "    print(\"Percentage of cards covered in \" + city + \":\", mclp.perc_cov)\n",
    "    print(\"\\n\")\n",
    "\n",
    "    # Creating a df of which AEDs were selected\n",
    "    facility_status = []\n",
    "    \n",
    "    # Use the correct attribute to get the facility variables\n",
    "    for facility_index, variable in enumerate(mclp.fac_vars):\n",
    "        if variable.varValue == 1:\n",
    "            status = True\n",
    "        else:\n",
    "            status = False\n",
    "            \n",
    "        facility_status.append([status])\n",
    "        \n",
    "    # List of which aed locs were selected, corresponds to col index of cost matrix/row index of combined_aeds_coordinates\n",
    "    exec(f\"{city}_selected = pd.DataFrame(facility_status, columns=['SelectionStatus'])\")\n",
    "    exec(f\"{city}_selected.to_csv('{city}_optimal_aeds.csv', index=False)\")"
   ]
  }
 ],
 "metadata": {
  "interpreter": {
   "hash": "221ab5ba4d875600bd6bb0e7eee0cec001efdea31b25afc3ad4fb9d8815d7c77"
  },
  "kernelspec": {
   "display_name": "Python 3 (ipykernel)",
   "language": "python",
   "name": "python3"
  },
  "language_info": {
   "codemirror_mode": {
    "name": "ipython",
    "version": 3
   },
   "file_extension": ".py",
   "mimetype": "text/x-python",
   "name": "python",
   "nbconvert_exporter": "python",
   "pygments_lexer": "ipython3",
   "version": "3.9.19"
  }
 },
 "nbformat": 4,
 "nbformat_minor": 4
}
